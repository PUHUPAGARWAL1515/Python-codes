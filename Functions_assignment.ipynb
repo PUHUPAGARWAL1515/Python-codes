{
  "nbformat": 4,
  "nbformat_minor": 0,
  "metadata": {
    "colab": {
      "provenance": [],
      "authorship_tag": "ABX9TyN9ZwUXwbmJyMGQo+aY1PQf",
      "include_colab_link": true
    },
    "kernelspec": {
      "name": "python3",
      "display_name": "Python 3"
    },
    "language_info": {
      "name": "python"
    }
  },
  "cells": [
    {
      "cell_type": "markdown",
      "metadata": {
        "id": "view-in-github",
        "colab_type": "text"
      },
      "source": [
        "<a href=\"https://colab.research.google.com/github/PUHUPAGARWAL1515/Python-codes/blob/main/Functions_assignment.ipynb\" target=\"_parent\"><img src=\"https://colab.research.google.com/assets/colab-badge.svg\" alt=\"Open In Colab\"/></a>"
      ]
    },
    {
      "cell_type": "code",
      "execution_count": 11,
      "metadata": {
        "id": "qWHxOE3XN7Q1",
        "colab": {
          "base_uri": "https://localhost:8080/",
          "height": 110
        },
        "outputId": "f1193a02-7ef1-43d4-e40a-14ea8c7e02df"
      },
      "outputs": [
        {
          "output_type": "error",
          "ename": "SyntaxError",
          "evalue": "unterminated string literal (detected at line 2) (<ipython-input-11-af00885e0921>, line 2)",
          "traceback": [
            "\u001b[0;36m  File \u001b[0;32m\"<ipython-input-11-af00885e0921>\"\u001b[0;36m, line \u001b[0;32m2\u001b[0m\n\u001b[0;31m    Function: A block of code that performs a specific task. It's defined independently and called by its name.\u001b[0m\n\u001b[0m                                                               ^\u001b[0m\n\u001b[0;31mSyntaxError\u001b[0m\u001b[0;31m:\u001b[0m unterminated string literal (detected at line 2)\n"
          ]
        }
      ],
      "source": [
        "1. What is the difference between a function and a method in Python?\n",
        "Function: A block of code that performs a specific task. It's defined independently and called by its name.\n",
        "def greet(name):\n",
        "    return \"Hello, \" + name\n",
        "\n",
        "result = greet(\"Alice\")  # Calling the function\n",
        "print(result)\n",
        "Method: A function that is associated with an object (a class instance). It's called using the object's name followed by a dot and the method name.\n",
        "class Dog:\n",
        "    def bark(self):\n",
        "        return \"Woof!\"\n",
        "\n",
        "my_dog = Dog()  # Creating an object of the Dog class\n",
        "sound = my_dog.bark()  # Calling the method on the object\n",
        "print(sound)"
      ]
    },
    {
      "cell_type": "code",
      "source": [
        "2.Explain the concept of function arguments and parameters in Python.\n",
        "arameters: Variables listed inside the parentheses in the function definition. They act as placeholders for the values that will be passed to the function.\n",
        "\n",
        "def add(x, y):  # x and y are parameters\n",
        "    return x + y\n",
        "    Arguments: The actual values passed to the function when it's called.\n",
        "result = add(5, 3)  # 5 and 3 are arguments\n",
        "print(result)\n"
      ],
      "metadata": {
        "id": "jsvtKbulOLh-"
      },
      "execution_count": null,
      "outputs": []
    },
    {
      "cell_type": "code",
      "source": [
        "3. What are the different ways to define and call a function in Python?\n",
        "Defining Functions:\n",
        "\n",
        "Standard Definition (using def):\n",
        "def greet(name):\n",
        "    return \"Hello, \" + name\n",
        "\n",
        "# Calling the function\n",
        "message = greet(\"Alice\")\n",
        "print(message)  # Output: Hello, Alice\n",
        "\n",
        "Lambda Functions (anonymous, single-expression functions):\n",
        "add = lambda x, y: x + y\n",
        "\n",
        "# Calling the lambda function\n",
        "result = add(5, 3)\n",
        "print(result)  # Output: 8\n",
        "\n",
        "Nested Functions (functions defined within other functions):\n",
        "\n",
        "def outer_function(x):\n",
        "    def inner_function(y):\n",
        "        return x + y\n",
        "    return inner_function\n",
        "\n",
        "# Calling the outer function (which returns the inner function)\n",
        "my_adder = outer_function(10)\n",
        "\n",
        "# Calling the inner function\n",
        "result = my_adder(5)\n",
        "print(result)  # Output: 15\n",
        "\n",
        "Calling Functions:\n",
        "\n",
        "Direct Call: function_name(arguments)\n",
        "Assigning to a Variable: variable_name = function_name(arguments)\n",
        "Within Expressions: print(function_name(arguments))"
      ],
      "metadata": {
        "id": "UoJukzwWOLfh"
      },
      "execution_count": null,
      "outputs": []
    },
    {
      "cell_type": "code",
      "source": [
        "4. What is the purpose of the return statement in a Python function?\n",
        "\n",
        "The return statement serves two primary purposes:\n",
        "\n",
        "Returning a Value: It sends a value back to the caller of the function. This allows the function to produce a result that can be used in other parts of the program.\n",
        "\n",
        "Exiting the Function: When a return statement is encountered, the function's execution immediately terminates, and control returns to the caller. Any code after the return statement within the function is not executed."
      ],
      "metadata": {
        "id": "q8vkwVxnOLdd"
      },
      "execution_count": null,
      "outputs": []
    },
    {
      "cell_type": "code",
      "source": [
        "5. What are iterators in Python and how do they differ from iterables?\n",
        "\n",
        "Iterables:\n",
        "\n",
        "Objects that can be looped over (e.g., lists, tuples, strings, dictionaries, sets).\n",
        "They implement the __iter__() method, which returns an iterator.\n",
        "Iterators:\n",
        "\n",
        "Objects that represent a stream of data.\n",
        "They implement the __next__() method, which returns the next element in the sequence.\n",
        "They also implement the __iter__() method, which returns the iterator object itself.\n",
        "Iterators maintain state, remembering which element they are currently pointing to.\n",
        "Key Difference: Iterables can be looped over, but they don't necessarily hold all their elements in memory at once. Iterators produce elements on demand, which is more memory-efficient for large datasets."
      ],
      "metadata": {
        "id": "vUG6tv5POLbB"
      },
      "execution_count": null,
      "outputs": []
    },
    {
      "cell_type": "code",
      "source": [
        "6. Explain the concept of generators in Python and how they are defined.\n",
        "\n",
        "Generators:\n",
        "\n",
        "Special types of functions that return iterators.\n",
        "They use the yield keyword instead of return.\n",
        "When a generator is called, it doesn't execute immediately. Instead, it returns a generator object.\n",
        "When next() is called on the generator object, the generator function executes until it encounters a yield statement. The value after yield is returned, and the generator's state is saved.\n",
        "The next time next() is called, the generator resumes execution from where it left off.\n",
        "Defining Generators:\n",
        "def count_up_to(n):\n",
        "    i = 1\n",
        "    while i <= n:\n",
        "        yield i\n",
        "        i += 1\n",
        "\n",
        "# Using the generator\n",
        "counter = count_up_to(5)\n",
        "for num in counter:\n",
        "    print(num)  # Output: 1 2 3 4 5"
      ],
      "metadata": {
        "id": "n9yrxSN6OLZE"
      },
      "execution_count": null,
      "outputs": []
    },
    {
      "cell_type": "code",
      "source": [
        "7. What are the advantages of using generators over regular functions?\n",
        "\n",
        "Memory Efficiency: Generators produce values on demand, so they don't need to store the entire sequence in memory. This is crucial for working with large datasets.\n",
        "Lazy Evaluation: Values are generated only when needed, which can save computation time if not all values are used.\n",
        "Readability and Simplicity: Generators can make code more concise and easier to understand, especially when dealing with complex sequences"
      ],
      "metadata": {
        "id": "sgyQ9tpNOLWX"
      },
      "execution_count": null,
      "outputs": []
    },
    {
      "cell_type": "code",
      "source": [
        "8. What is a lambda function in Python and when is it typically used?\n",
        "\n",
        "Lambda Functions:\n",
        "\n",
        "Anonymous (unnamed) functions defined using the lambda keyword.\n",
        "They can have any number of arguments but can only contain a single expression.\n",
        "The expression's result is implicitly returned.\n",
        "Typical Uses:\n",
        "\n",
        "As arguments to higher-order functions like map(), filter(), and sorted().\n",
        "For creating small, throwaway functions where a full function definition would be verbose."
      ],
      "metadata": {
        "id": "Yaghig-tOLTP"
      },
      "execution_count": null,
      "outputs": []
    },
    {
      "cell_type": "code",
      "source": [
        "9. Explain the purpose and usage of the map() function in Python.\n",
        "\n",
        "Purpose:\n",
        "\n",
        "Applies a given function to each item of an iterable (e.g., list, tuple) and returns an iterator of the results.\n",
        "Usage:\n",
        "\n",
        "\n",
        "numbers = [1, 2, 3, 4, 5]\n",
        "squared = map(lambda x: x**2, numbers)\n",
        "print(list(squared))  # Output: [1, 4, 9, 16, 25]"
      ],
      "metadata": {
        "id": "4c1NDhMPOLQy"
      },
      "execution_count": null,
      "outputs": []
    },
    {
      "cell_type": "code",
      "source": [
        "10. What is the difference between map(), reduce(), and filter() functions in Python?\n",
        "\n",
        "map(function, iterable): Applies a function to each item of an iterable and returns an iterator of the results.\n",
        "filter(function, iterable): Creates an iterator from elements of an iterable for which a function returns True.\n",
        "reduce(function, iterable): Applies a function cumulatively to the items of an iterable, from left to right, to reduce the iterable to a single value."
      ],
      "metadata": {
        "id": "9H3Q9lMZOLOX"
      },
      "execution_count": null,
      "outputs": []
    },
    {
      "cell_type": "code",
      "source": [
        "#11.Using pen & Paper write the internal mechanism for sum operation using  reduce function on this given\n",
        "#list:[47,11,42,13];\n",
        "#solution is attached in image as intructed in question\n",
        "from google.colab import files\n",
        "from IPython.display import Image # Corrected the module name to IPython\n",
        "uploaded =files.upload()"
      ],
      "metadata": {
        "colab": {
          "base_uri": "https://localhost:8080/",
          "height": 108
        },
        "id": "q6LkiQNB726t",
        "outputId": "178a50be-0aac-4dcc-a07c-a5364914db67"
      },
      "execution_count": 2,
      "outputs": [
        {
          "output_type": "display_data",
          "data": {
            "text/plain": [
              "<IPython.core.display.HTML object>"
            ],
            "text/html": [
              "\n",
              "     <input type=\"file\" id=\"files-b443f401-d04b-4966-9f6f-b00c67fe1d67\" name=\"files[]\" multiple disabled\n",
              "        style=\"border:none\" />\n",
              "     <output id=\"result-b443f401-d04b-4966-9f6f-b00c67fe1d67\">\n",
              "      Upload widget is only available when the cell has been executed in the\n",
              "      current browser session. Please rerun this cell to enable.\n",
              "      </output>\n",
              "      <script>// Copyright 2017 Google LLC\n",
              "//\n",
              "// Licensed under the Apache License, Version 2.0 (the \"License\");\n",
              "// you may not use this file except in compliance with the License.\n",
              "// You may obtain a copy of the License at\n",
              "//\n",
              "//      http://www.apache.org/licenses/LICENSE-2.0\n",
              "//\n",
              "// Unless required by applicable law or agreed to in writing, software\n",
              "// distributed under the License is distributed on an \"AS IS\" BASIS,\n",
              "// WITHOUT WARRANTIES OR CONDITIONS OF ANY KIND, either express or implied.\n",
              "// See the License for the specific language governing permissions and\n",
              "// limitations under the License.\n",
              "\n",
              "/**\n",
              " * @fileoverview Helpers for google.colab Python module.\n",
              " */\n",
              "(function(scope) {\n",
              "function span(text, styleAttributes = {}) {\n",
              "  const element = document.createElement('span');\n",
              "  element.textContent = text;\n",
              "  for (const key of Object.keys(styleAttributes)) {\n",
              "    element.style[key] = styleAttributes[key];\n",
              "  }\n",
              "  return element;\n",
              "}\n",
              "\n",
              "// Max number of bytes which will be uploaded at a time.\n",
              "const MAX_PAYLOAD_SIZE = 100 * 1024;\n",
              "\n",
              "function _uploadFiles(inputId, outputId) {\n",
              "  const steps = uploadFilesStep(inputId, outputId);\n",
              "  const outputElement = document.getElementById(outputId);\n",
              "  // Cache steps on the outputElement to make it available for the next call\n",
              "  // to uploadFilesContinue from Python.\n",
              "  outputElement.steps = steps;\n",
              "\n",
              "  return _uploadFilesContinue(outputId);\n",
              "}\n",
              "\n",
              "// This is roughly an async generator (not supported in the browser yet),\n",
              "// where there are multiple asynchronous steps and the Python side is going\n",
              "// to poll for completion of each step.\n",
              "// This uses a Promise to block the python side on completion of each step,\n",
              "// then passes the result of the previous step as the input to the next step.\n",
              "function _uploadFilesContinue(outputId) {\n",
              "  const outputElement = document.getElementById(outputId);\n",
              "  const steps = outputElement.steps;\n",
              "\n",
              "  const next = steps.next(outputElement.lastPromiseValue);\n",
              "  return Promise.resolve(next.value.promise).then((value) => {\n",
              "    // Cache the last promise value to make it available to the next\n",
              "    // step of the generator.\n",
              "    outputElement.lastPromiseValue = value;\n",
              "    return next.value.response;\n",
              "  });\n",
              "}\n",
              "\n",
              "/**\n",
              " * Generator function which is called between each async step of the upload\n",
              " * process.\n",
              " * @param {string} inputId Element ID of the input file picker element.\n",
              " * @param {string} outputId Element ID of the output display.\n",
              " * @return {!Iterable<!Object>} Iterable of next steps.\n",
              " */\n",
              "function* uploadFilesStep(inputId, outputId) {\n",
              "  const inputElement = document.getElementById(inputId);\n",
              "  inputElement.disabled = false;\n",
              "\n",
              "  const outputElement = document.getElementById(outputId);\n",
              "  outputElement.innerHTML = '';\n",
              "\n",
              "  const pickedPromise = new Promise((resolve) => {\n",
              "    inputElement.addEventListener('change', (e) => {\n",
              "      resolve(e.target.files);\n",
              "    });\n",
              "  });\n",
              "\n",
              "  const cancel = document.createElement('button');\n",
              "  inputElement.parentElement.appendChild(cancel);\n",
              "  cancel.textContent = 'Cancel upload';\n",
              "  const cancelPromise = new Promise((resolve) => {\n",
              "    cancel.onclick = () => {\n",
              "      resolve(null);\n",
              "    };\n",
              "  });\n",
              "\n",
              "  // Wait for the user to pick the files.\n",
              "  const files = yield {\n",
              "    promise: Promise.race([pickedPromise, cancelPromise]),\n",
              "    response: {\n",
              "      action: 'starting',\n",
              "    }\n",
              "  };\n",
              "\n",
              "  cancel.remove();\n",
              "\n",
              "  // Disable the input element since further picks are not allowed.\n",
              "  inputElement.disabled = true;\n",
              "\n",
              "  if (!files) {\n",
              "    return {\n",
              "      response: {\n",
              "        action: 'complete',\n",
              "      }\n",
              "    };\n",
              "  }\n",
              "\n",
              "  for (const file of files) {\n",
              "    const li = document.createElement('li');\n",
              "    li.append(span(file.name, {fontWeight: 'bold'}));\n",
              "    li.append(span(\n",
              "        `(${file.type || 'n/a'}) - ${file.size} bytes, ` +\n",
              "        `last modified: ${\n",
              "            file.lastModifiedDate ? file.lastModifiedDate.toLocaleDateString() :\n",
              "                                    'n/a'} - `));\n",
              "    const percent = span('0% done');\n",
              "    li.appendChild(percent);\n",
              "\n",
              "    outputElement.appendChild(li);\n",
              "\n",
              "    const fileDataPromise = new Promise((resolve) => {\n",
              "      const reader = new FileReader();\n",
              "      reader.onload = (e) => {\n",
              "        resolve(e.target.result);\n",
              "      };\n",
              "      reader.readAsArrayBuffer(file);\n",
              "    });\n",
              "    // Wait for the data to be ready.\n",
              "    let fileData = yield {\n",
              "      promise: fileDataPromise,\n",
              "      response: {\n",
              "        action: 'continue',\n",
              "      }\n",
              "    };\n",
              "\n",
              "    // Use a chunked sending to avoid message size limits. See b/62115660.\n",
              "    let position = 0;\n",
              "    do {\n",
              "      const length = Math.min(fileData.byteLength - position, MAX_PAYLOAD_SIZE);\n",
              "      const chunk = new Uint8Array(fileData, position, length);\n",
              "      position += length;\n",
              "\n",
              "      const base64 = btoa(String.fromCharCode.apply(null, chunk));\n",
              "      yield {\n",
              "        response: {\n",
              "          action: 'append',\n",
              "          file: file.name,\n",
              "          data: base64,\n",
              "        },\n",
              "      };\n",
              "\n",
              "      let percentDone = fileData.byteLength === 0 ?\n",
              "          100 :\n",
              "          Math.round((position / fileData.byteLength) * 100);\n",
              "      percent.textContent = `${percentDone}% done`;\n",
              "\n",
              "    } while (position < fileData.byteLength);\n",
              "  }\n",
              "\n",
              "  // All done.\n",
              "  yield {\n",
              "    response: {\n",
              "      action: 'complete',\n",
              "    }\n",
              "  };\n",
              "}\n",
              "\n",
              "scope.google = scope.google || {};\n",
              "scope.google.colab = scope.google.colab || {};\n",
              "scope.google.colab._files = {\n",
              "  _uploadFiles,\n",
              "  _uploadFilesContinue,\n",
              "};\n",
              "})(self);\n",
              "</script> "
            ]
          },
          "metadata": {}
        },
        {
          "output_type": "stream",
          "name": "stdout",
          "text": [
            "Saving IMG20250330212720.jpg to IMG20250330212720 (1).jpg\n",
            "Saving IMG_20250330_212806.jpg to IMG_20250330_212806 (1).jpg\n"
          ]
        }
      ]
    },
    {
      "cell_type": "code",
      "source": [
        "#PRACTICAL_QUESTIONS:"
      ],
      "metadata": {
        "id": "gEvFcxEzOLL8"
      },
      "execution_count": null,
      "outputs": []
    },
    {
      "cell_type": "code",
      "source": [
        "#1. Write a Python function that takes a list of numbers as input and returns the sum of all even numbers in the list.\n",
        "def sum_even_numbers(numbers):\n",
        "    \"\"\"Calculates the sum of all even numbers in a list.\"\"\"\n",
        "    even_sum = 0\n",
        "    for num in numbers:\n",
        "        if num % 2 == 0:\n",
        "            even_sum += num\n",
        "    return even_sum\n",
        "\n",
        "# Example Usage\n",
        "numbers = [1, 2, 3, 4, 5, 6, 7, 8, 9, 10]\n",
        "result = sum_even_numbers(numbers)\n",
        "print(result)  # Output: 30"
      ],
      "metadata": {
        "id": "Ux7-4iuTmj0B"
      },
      "execution_count": null,
      "outputs": []
    },
    {
      "cell_type": "code",
      "source": [
        "#2. Create a Python function that accepts a string and returns the reverse of that string.\n",
        "def reverse_string(input_string):\n",
        "    \"\"\"Reverses a given string.\"\"\"\n",
        "    return input_string[::-1]\n",
        "\n",
        "# Example Usage\n",
        "string = \"hello\"\n",
        "reversed_string = reverse_string(string)\n",
        "print(reversed_string)  # Output: olleh"
      ],
      "metadata": {
        "id": "Ofdhqdx6mjwH"
      },
      "execution_count": null,
      "outputs": []
    },
    {
      "cell_type": "code",
      "source": [
        "#3. Implement a Python function that takes a list of integers and returns a new list containing the squares of each number.\n",
        "def square_numbers(numbers):\n",
        "    \"\"\"Returns a list of squares of numbers from the input list.\"\"\"\n",
        "    squared_list = [num ** 2 for num in numbers]\n",
        "    return squared_list\n",
        "\n",
        "# Example Usage\n",
        "numbers = [1, 2, 3, 4, 5]\n",
        "squared_numbers = square_numbers(numbers)\n",
        "print(squared_numbers)  # Output: [1, 4, 9, 16, 25]"
      ],
      "metadata": {
        "id": "F-ScOuaAmjt3"
      },
      "execution_count": null,
      "outputs": []
    },
    {
      "cell_type": "code",
      "source": [
        "#4. Write a Python function that checks if a given number is prime or not from 1 to 200.\n",
        "def is_prime(number):\n",
        "    \"\"\"Checks if a number is prime.\"\"\"\n",
        "    if number <= 1:\n",
        "        return False\n",
        "    for i in range(2, int(number**0.5) + 1):\n",
        "        if number % i == 0:\n",
        "            return False\n",
        "    return True\n",
        "\n",
        "# Example Usage\n",
        "num = 17\n",
        "if is_prime(num):\n",
        "    print(f\"{num} is a prime number.\")\n",
        "else:\n",
        "    print(f\"{num} is not a prime number.\")"
      ],
      "metadata": {
        "id": "6ZzWZQdVmjrx"
      },
      "execution_count": null,
      "outputs": []
    },
    {
      "cell_type": "code",
      "source": [
        "#5. Create an iterator class in Python that generates the Fibonacci sequence up to a specified number of terms.\n",
        "class FibonacciIterator:\n",
        "    def __init__(self, n):\n",
        "        self.n = n\n",
        "        self.a = 0\n",
        "        self.b = 1\n",
        "        self.count = 0\n",
        "\n",
        "    def __iter__(self):\n",
        "        return self\n",
        "\n",
        "    def __next__(self):\n",
        "        if self.count < self.n:\n",
        "            result = self.a\n",
        "            self.a, self.b = self.b, self.a + self.b\n",
        "            self.count += 1\n",
        "            return result\n",
        "        else:\n",
        "            raise StopIteration\n",
        "\n",
        "# Example Usage\n",
        "fib_iter = FibonacciIterator(10)\n",
        "for num in fib_iter:\n",
        "    print(num)  # Output: 0 1 1 2 3 5 8 13 21 34"
      ],
      "metadata": {
        "id": "PwH9_WV4mjox"
      },
      "execution_count": null,
      "outputs": []
    },
    {
      "cell_type": "code",
      "source": [
        "#6. Write a generator function in Python that yields the powers of 2 up to a given exponent.\n",
        "def powers_of_two(exponent):\n",
        "    \"\"\"Generates powers of 2 up to the given exponent.\"\"\"\n",
        "    for i in range(exponent + 1):\n",
        "        yield 2 ** i\n",
        "\n",
        "# Example Usage\n",
        "for power in powers_of_two(5):\n",
        "    print(power)  # Output: 1 2 4 8 16 32"
      ],
      "metadata": {
        "id": "mblAWDyjmjkX"
      },
      "execution_count": null,
      "outputs": []
    },
    {
      "cell_type": "code",
      "source": [
        "#7. Implement a generator function that reads a file line by line and yields each line as a string.\n",
        "def read_file_lines(filename):\n",
        "    \"\"\"Reads a file line by line and yields each line.\"\"\"\n",
        "    with open(filename, 'r') as file:\n",
        "        for line in file:\n",
        "            yield line.strip()  # Remove newline characters\n",
        "\n",
        "# Example Usage (assuming you have a file named 'my_file.txt')\n",
        "for line in read_file_lines('my_file.txt'):\n",
        "    print(line)"
      ],
      "metadata": {
        "id": "ec26i8g8oFbz"
      },
      "execution_count": null,
      "outputs": []
    },
    {
      "cell_type": "code",
      "source": [
        "#8. Use a lambda function in Python to sort a list of tuples based on the second element of each tuple.\n",
        "tuples = [(1, 5), (3, 2), (8, 9), (4, 1)]\n",
        "sorted_tuples = sorted(tuples, key=lambda x: x[1])\n",
        "print(sorted_tuples)  # Output: [(4, 1), (3, 2), (1, 5), (8, 9)]"
      ],
      "metadata": {
        "id": "FKl6p9Q6oab5"
      },
      "execution_count": null,
      "outputs": []
    },
    {
      "cell_type": "code",
      "source": [
        "#9. Write a Python program that uses map() to convert a list of temperatures from Celsius to Fahrenheit.\n",
        "def celsius_to_fahrenheit(celsius):\n",
        "    \"\"\"Converts Celsius to Fahrenheit.\"\"\"\n",
        "    return (celsius * 9/5) + 32\n",
        "\n",
        "celsius_temperatures = [0, 10, 20, 30, 40]\n",
        "fahrenheit_temperatures = list(map(celsius_to_fahrenheit, celsius_temperatures))\n",
        "print(fahrenheit_temperatures)  # Output: [32.0, 50.0, 68.0, 86.0, 104.0]"
      ],
      "metadata": {
        "id": "pySIhpm9oaZT"
      },
      "execution_count": null,
      "outputs": []
    },
    {
      "cell_type": "code",
      "source": [
        "#10. Create a Python program that uses filter() to remove all the vowels from a given string.\n",
        "def remove_vowels(input_string):\n",
        "    \"\"\"Removes vowels from a string.\"\"\"\n",
        "    vowels = \"aeiouAEIOU\"\n",
        "    return \"\".join(filter(lambda char: char not in vowels, input_string))\n",
        "\n",
        "# Example Usage\n",
        "string = \"Hello, World!\"\n",
        "result = remove_vowels(string)\n",
        "print(result)  # Output: Hll, Wrld!"
      ],
      "metadata": {
        "id": "9AAbhhyKoaWj"
      },
      "execution_count": null,
      "outputs": []
    },
    {
      "cell_type": "code",
      "source": [
        "#11\n",
        "def process_book_orders(orders):\n",
        "    \"\"\"\n",
        "    Processes book orders, calculating the total price per order and\n",
        "    adding a 10€ fee if the total price is less than 100€.\n",
        "\n",
        "    Args:\n",
        "        orders: A list of lists representing book orders.\n",
        "\n",
        "    Returns:\n",
        "        A list of tuples, where each tuple contains the order number and\n",
        "        the total price for that order.\n",
        "    \"\"\"\n",
        "\n",
        "    def calculate_total(order):\n",
        "        \"\"\"Calculates the total price for a single order.\"\"\"\n",
        "        quantity = order[2]\n",
        "        price_per_item = order[3]\n",
        "        total = quantity * price_per_item\n",
        "        if total < 100:\n",
        "            total += 10  # Add 10€ fee\n",
        "        return total\n",
        "\n",
        "    # Use map and lambda to process each order\n",
        "    results = list(map(lambda order: (order[0], calculate_total(order)), orders))\n",
        "    return results\n",
        "\n",
        "# Sample Data (as provided)\n",
        "orders = [\n",
        "    [34587, \"Learning Python, Mark Lutz\", 4, 40.95],\n",
        "    [98762, \"Programming Python, Mark Lutz\", 5, 56.80],\n",
        "    [77226, \"Head First Python, Paul Barry\", 3, 32.95],\n",
        "    [88112, \"Einführung in Python3, Bernd Klein\", 3, 24.99]\n",
        "]\n",
        "\n",
        "# Process the orders\n",
        "order_totals = process_book_orders(orders)\n",
        "\n",
        "# Print the results\n",
        "for order_number, total_price in order_totals:\n",
        "    print(f\"Order Number: {order_number}, Total Price: {total_price:.2f}€\")"
      ],
      "metadata": {
        "id": "auVgBwzroaUE"
      },
      "execution_count": null,
      "outputs": []
    },
    {
      "cell_type": "code",
      "source": [],
      "metadata": {
        "id": "R8OiWqC6oaRj"
      },
      "execution_count": null,
      "outputs": []
    },
    {
      "cell_type": "code",
      "source": [],
      "metadata": {
        "id": "IkX8Nh7BoaPA"
      },
      "execution_count": null,
      "outputs": []
    }
  ]
}