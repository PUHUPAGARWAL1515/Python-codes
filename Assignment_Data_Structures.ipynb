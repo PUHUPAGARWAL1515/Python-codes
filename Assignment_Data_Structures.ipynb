{
  "nbformat": 4,
  "nbformat_minor": 0,
  "metadata": {
    "colab": {
      "provenance": [],
      "authorship_tag": "ABX9TyM6/2bsqEjv9iXws3CwW7aI",
      "include_colab_link": true
    },
    "kernelspec": {
      "name": "python3",
      "display_name": "Python 3"
    },
    "language_info": {
      "name": "python"
    }
  },
  "cells": [
    {
      "cell_type": "markdown",
      "metadata": {
        "id": "view-in-github",
        "colab_type": "text"
      },
      "source": [
        "<a href=\"https://colab.research.google.com/github/PUHUPAGARWAL1515/Python-codes/blob/main/Assignment_Data_Structures.ipynb\" target=\"_parent\"><img src=\"https://colab.research.google.com/assets/colab-badge.svg\" alt=\"Open In Colab\"/></a>"
      ]
    },
    {
      "cell_type": "code",
      "execution_count": 18,
      "metadata": {
        "id": "UaeA2O7o_SkA",
        "colab": {
          "base_uri": "https://localhost:8080/",
          "height": 53
        },
        "outputId": "e2e5ce5f-1849-4c49-e48d-cb28359f7928"
      },
      "outputs": [
        {
          "output_type": "stream",
          "name": "stdout",
          "text": [
            "I am a good student\n"
          ]
        },
        {
          "output_type": "execute_result",
          "data": {
            "text/plain": [
              "' '"
            ],
            "application/vnd.google.colaboratory.intrinsic+json": {
              "type": "string"
            }
          },
          "metadata": {},
          "execution_count": 18
        }
      ],
      "source": [
        "#Discuss string slicing and provide examples.\n",
        "#ANSWER:\n",
        "#string slicing in Python is a way to get specific parts of a string of a string by using start ,end ,and step values.\n",
        "# for example :\n",
        "String_1=\"I am a good student\"\n",
        "print(String_1)\n",
        "String_1[0:4]\n",
        "String_1[5:12]\n",
        "String_1[1]"
      ]
    },
    {
      "cell_type": "code",
      "source": [
        "#Explain the key features of lists\n",
        "#in Python\n",
        "\n",
        "#List are the ordered collection of data\n",
        "#In List elements of any data type can be stored\n",
        "\n",
        "##For example:\n",
        "\n",
        "List_books = [\"BG\",\"Ramayana\",True,\"5+6j\",1,4.3]\n",
        "print(List_books)\n",
        "type(List_books)"
      ],
      "metadata": {
        "colab": {
          "base_uri": "https://localhost:8080/"
        },
        "id": "EwKxAkoRgkeB",
        "outputId": "8e74698d-e03e-4f0d-96a8-c25afdbbbf09"
      },
      "execution_count": null,
      "outputs": [
        {
          "output_type": "stream",
          "name": "stdout",
          "text": [
            "['BG', 'Ramayana', True, '5+6j', 1, 4.3]\n"
          ]
        },
        {
          "output_type": "execute_result",
          "data": {
            "text/plain": [
              "list"
            ]
          },
          "metadata": {},
          "execution_count": 12
        }
      ]
    },
    {
      "cell_type": "code",
      "source": [
        "\n",
        "\n",
        "#Describe how to access, modify, and delete elements in a list with examples\n",
        "#Answer is given below:\n",
        "\n",
        "List_books = [\"BG\",\"Ramayana\",True,\"5+6j\",1,4.3]\n",
        "print(List_books)\n",
        "#Accessing the elements\n",
        "print(List_books[1])\n",
        "List_books[1:4]\n",
        "List_books[-1]\n",
        "print(List_books)\n",
        "#Modifying the elements\n",
        "List_books.append(9)\n",
        "List_books[1] = 'Pen'\n",
        "print(List_books)\n",
        "#extend---used to append elements from another list\n",
        "List_books = [\"BG\",\"Ramayana\",True,\"5+6j\",1,4.3]\n",
        "list_new = ['pen','register']\n",
        "List_books.extend(list_new)\n",
        "print(List_books)\n",
        "\n",
        "\n",
        "#deleting the element\n",
        "List_books.remove(\"BG\")\n",
        "print(List_books)\n",
        "List_books.pop(1)\n",
        "List_books.clear()\n",
        "print(List_books)"
      ],
      "metadata": {
        "id": "ArNvjFAXgrMg",
        "colab": {
          "base_uri": "https://localhost:8080/"
        },
        "outputId": "800c459d-4edd-4b8d-db88-4fc28ae3304e"
      },
      "execution_count": null,
      "outputs": [
        {
          "output_type": "stream",
          "name": "stdout",
          "text": [
            "['BG', 'Ramayana', True, '5+6j', 1, 4.3]\n",
            "Ramayana\n",
            "['BG', 'Ramayana', True, '5+6j', 1, 4.3]\n",
            "['BG', 'Pen', True, '5+6j', 1, 4.3, 9]\n",
            "['BG', 'Ramayana', True, '5+6j', 1, 4.3, 'pen', 'register']\n",
            "['Ramayana', True, '5+6j', 1, 4.3, 'pen', 'register']\n",
            "[]\n"
          ]
        }
      ]
    },
    {
      "cell_type": "code",
      "source": [
        "#Compare and Contrast List and Tuple with examples.\n",
        "\n",
        "#Answer:#Tuples are the ordered collection of elements,hetrogenous\n",
        "#Tuples are immutable.\n",
        "##The main difference b/w tuples and list is that tuples are immutable and lists are mutable.\n",
        "### for example: lets define a tuple\n",
        "t = ('pwskills','pen',True,2,4.0,3+5j)\n",
        "type(t)\n",
        "print(t)\n",
        "t[0]\n",
        "t[0] = 'paper'\n",
        "#this below statement comes after running the code tells that  tuples object doesnot support item assignment i.e immutable.\n"
      ],
      "metadata": {
        "id": "_zROlsEkMRYK",
        "colab": {
          "base_uri": "https://localhost:8080/",
          "height": 211
        },
        "outputId": "2ec51f53-9cae-475b-8ca3-9c6db2233bde"
      },
      "execution_count": null,
      "outputs": [
        {
          "output_type": "stream",
          "name": "stdout",
          "text": [
            "('pwskills', 'pen', True, 2, 4.0, (3+5j))\n"
          ]
        },
        {
          "output_type": "error",
          "ename": "TypeError",
          "evalue": "'tuple' object does not support item assignment",
          "traceback": [
            "\u001b[0;31m---------------------------------------------------------------------------\u001b[0m",
            "\u001b[0;31mTypeError\u001b[0m                                 Traceback (most recent call last)",
            "\u001b[0;32m<ipython-input-13-b70323a1cda2>\u001b[0m in \u001b[0;36m<cell line: 11>\u001b[0;34m()\u001b[0m\n\u001b[1;32m      9\u001b[0m \u001b[0mprint\u001b[0m\u001b[0;34m(\u001b[0m\u001b[0mt\u001b[0m\u001b[0;34m)\u001b[0m\u001b[0;34m\u001b[0m\u001b[0;34m\u001b[0m\u001b[0m\n\u001b[1;32m     10\u001b[0m \u001b[0mt\u001b[0m\u001b[0;34m[\u001b[0m\u001b[0;36m0\u001b[0m\u001b[0;34m]\u001b[0m\u001b[0;34m\u001b[0m\u001b[0;34m\u001b[0m\u001b[0m\n\u001b[0;32m---> 11\u001b[0;31m \u001b[0mt\u001b[0m\u001b[0;34m[\u001b[0m\u001b[0;36m0\u001b[0m\u001b[0;34m]\u001b[0m \u001b[0;34m=\u001b[0m \u001b[0;34m'paper'\u001b[0m\u001b[0;34m\u001b[0m\u001b[0;34m\u001b[0m\u001b[0m\n\u001b[0m\u001b[1;32m     12\u001b[0m \u001b[0;31m#this below statement comes after running the code tells that  tuples object doesnot support item assignment i.e immutable.\u001b[0m\u001b[0;34m\u001b[0m\u001b[0;34m\u001b[0m\u001b[0m\n",
            "\u001b[0;31mTypeError\u001b[0m: 'tuple' object does not support item assignment"
          ]
        }
      ]
    },
    {
      "cell_type": "code",
      "source": [
        "#Describe the key features of sets and provide examples of their use.\n",
        "##ANSWER\n",
        "#Sets are unordered and unique collection of elements\n",
        "#It does not allow any duplicate elements.\n",
        "#unordered>>indexing will not work.\n",
        "\n",
        "#for example:\n",
        "\n",
        "s = {1,2.0,3,4}\n",
        "print(s)\n",
        "type(s)\n",
        "\n",
        "#to justi fy that it does not allow duplicate elements (unique elements)\n",
        "s = {1,2.0,3,4,4,'RAM','Ram','RAM','ram'}\n",
        "print(s)\n",
        "### conclusion: it throws out the duplicate elements.\n",
        "##to justify that sets are unordered i.e no indexing\n",
        "s[0]\n",
        "#Hence sets are unordered collection of data"
      ],
      "metadata": {
        "colab": {
          "base_uri": "https://localhost:8080/",
          "height": 228
        },
        "id": "CzF4KF8gvtS6",
        "outputId": "8086bb3b-d5e2-4aa9-8ce9-4b1ada92d61f"
      },
      "execution_count": null,
      "outputs": [
        {
          "output_type": "stream",
          "name": "stdout",
          "text": [
            "{1, 2.0, 3, 4}\n",
            "{1, 2.0, 3, 4, 'ram', 'Ram', 'RAM'}\n"
          ]
        },
        {
          "output_type": "error",
          "ename": "TypeError",
          "evalue": "'set' object is not subscriptable",
          "traceback": [
            "\u001b[0;31m---------------------------------------------------------------------------\u001b[0m",
            "\u001b[0;31mTypeError\u001b[0m                                 Traceback (most recent call last)",
            "\u001b[0;32m<ipython-input-25-bde685d7edcc>\u001b[0m in \u001b[0;36m<cell line: 18>\u001b[0;34m()\u001b[0m\n\u001b[1;32m     16\u001b[0m \u001b[0;31m### conclusion: it throws out the duplicate elements.\u001b[0m\u001b[0;34m\u001b[0m\u001b[0;34m\u001b[0m\u001b[0m\n\u001b[1;32m     17\u001b[0m \u001b[0;31m##to justify that sets are unordered i.e no indexing\u001b[0m\u001b[0;34m\u001b[0m\u001b[0;34m\u001b[0m\u001b[0m\n\u001b[0;32m---> 18\u001b[0;31m \u001b[0ms\u001b[0m\u001b[0;34m[\u001b[0m\u001b[0;36m0\u001b[0m\u001b[0;34m]\u001b[0m\u001b[0;34m\u001b[0m\u001b[0;34m\u001b[0m\u001b[0m\n\u001b[0m\u001b[1;32m     19\u001b[0m \u001b[0;31m#Hence sets are unordered collection of data\u001b[0m\u001b[0;34m\u001b[0m\u001b[0;34m\u001b[0m\u001b[0m\n",
            "\u001b[0;31mTypeError\u001b[0m: 'set' object is not subscriptable"
          ]
        }
      ]
    },
    {
      "cell_type": "code",
      "source": [
        "#Discuss the use cases of tuples and sets in python programming.\n",
        "##Answer\n",
        "#use case of tuples>>> tuple is a data structure where u cannot modify the data\n",
        "emp_Salary = (3.3,4.8,5.7,6.2)        #in lacs\n",
        "emp_Salary[1]=3.9"
      ],
      "metadata": {
        "id": "fMG_eViInM63",
        "colab": {
          "base_uri": "https://localhost:8080/",
          "height": 176
        },
        "outputId": "938874bc-7754-44c6-ffcd-03e87d28ea01"
      },
      "execution_count": null,
      "outputs": [
        {
          "output_type": "error",
          "ename": "TypeError",
          "evalue": "'tuple' object does not support item assignment",
          "traceback": [
            "\u001b[0;31m---------------------------------------------------------------------------\u001b[0m",
            "\u001b[0;31mTypeError\u001b[0m                                 Traceback (most recent call last)",
            "\u001b[0;32m<ipython-input-15-3b4935b02615>\u001b[0m in \u001b[0;36m<cell line: 5>\u001b[0;34m()\u001b[0m\n\u001b[1;32m      3\u001b[0m \u001b[0;31m#use case of tuples>>> tuple is a data structure where u cannot modify the data\u001b[0m\u001b[0;34m\u001b[0m\u001b[0;34m\u001b[0m\u001b[0m\n\u001b[1;32m      4\u001b[0m \u001b[0memp_Salary\u001b[0m \u001b[0;34m=\u001b[0m \u001b[0;34m(\u001b[0m\u001b[0;36m3.3\u001b[0m\u001b[0;34m,\u001b[0m\u001b[0;36m4.8\u001b[0m\u001b[0;34m,\u001b[0m\u001b[0;36m5.7\u001b[0m\u001b[0;34m,\u001b[0m\u001b[0;36m6.2\u001b[0m\u001b[0;34m)\u001b[0m        \u001b[0;31m#in lacs\u001b[0m\u001b[0;34m\u001b[0m\u001b[0;34m\u001b[0m\u001b[0m\n\u001b[0;32m----> 5\u001b[0;31m \u001b[0memp_Salary\u001b[0m\u001b[0;34m[\u001b[0m\u001b[0;36m1\u001b[0m\u001b[0;34m]\u001b[0m\u001b[0;34m=\u001b[0m\u001b[0;36m3.9\u001b[0m\u001b[0;34m\u001b[0m\u001b[0;34m\u001b[0m\u001b[0m\n\u001b[0m",
            "\u001b[0;31mTypeError\u001b[0m: 'tuple' object does not support item assignment"
          ]
        }
      ]
    },
    {
      "cell_type": "code",
      "source": [
        "#Describe how to add,modify and delete items in a dictionary with examples.\n",
        "#Answer:\n",
        "#Lets create a dictionary\n",
        "d = {'name':'Puhup','contact':7880473368}\n",
        "#Adding the items in a dictionary\n",
        "d['address'] = 'springroadbangalore'\n",
        "d\n",
        "#deleting the items from the dictionary\n",
        "del d['contact']\n",
        "d\n",
        "#Modifying the item\n",
        "d1 = {'contact':7880473368}\n",
        "d.update(d1)\n",
        "d"
      ],
      "metadata": {
        "id": "6Bv6ptqZwKtz",
        "colab": {
          "base_uri": "https://localhost:8080/"
        },
        "outputId": "1aba1777-8825-4832-87fe-9b68a058bb21"
      },
      "execution_count": 11,
      "outputs": [
        {
          "output_type": "execute_result",
          "data": {
            "text/plain": [
              "{'name': 'Puhup', 'address': 'springroadbangalore', 'contact': 7880473368}"
            ]
          },
          "metadata": {},
          "execution_count": 11
        }
      ]
    },
    {
      "cell_type": "code",
      "source": [
        "#Discuus the importance of dictionary keys being immutable and provide examples\n",
        "#ANSWER:\n",
        "#Immutability is essential for keys because it ensures that the dictionary can efficiently look up values based on their keys. If a key was mutable, its hash value could change, making it impossible to find the associated value in the dictionary.\n"
      ],
      "metadata": {
        "id": "fxQ44aexwWfq"
      },
      "execution_count": null,
      "outputs": []
    },
    {
      "cell_type": "code",
      "source": [],
      "metadata": {
        "id": "AG90KviDv6Jq"
      },
      "execution_count": null,
      "outputs": []
    }
  ]
}