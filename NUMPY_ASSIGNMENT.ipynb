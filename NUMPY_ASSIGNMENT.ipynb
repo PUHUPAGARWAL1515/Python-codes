{
  "nbformat": 4,
  "nbformat_minor": 0,
  "metadata": {
    "colab": {
      "provenance": [],
      "authorship_tag": "ABX9TyN6sE8pod3gvcCIHEPG3lUu",
      "include_colab_link": true
    },
    "kernelspec": {
      "name": "python3",
      "display_name": "Python 3"
    },
    "language_info": {
      "name": "python"
    }
  },
  "cells": [
    {
      "cell_type": "markdown",
      "metadata": {
        "id": "view-in-github",
        "colab_type": "text"
      },
      "source": [
        "<a href=\"https://colab.research.google.com/github/PUHUPAGARWAL1515/Python-codes/blob/main/NUMPY_ASSIGNMENT.ipynb\" target=\"_parent\"><img src=\"https://colab.research.google.com/assets/colab-badge.svg\" alt=\"Open In Colab\"/></a>"
      ]
    },
    {
      "cell_type": "code",
      "source": [
        "1. Explain the purpose and advantages of NumPy in scientific computing and data analysis. How does it enhance Python's capabilities for numerical operations?\n",
        "\n",
        "Purpose: NumPy (Numerical Python) is a fundamental package for scientific computing in Python. It provides support for large, multi-dimensional arrays and matrices, along with a collection of high-level mathematical functions to operate on these arrays.\n",
        "\n",
        "Advantages:\n",
        "\n",
        "Efficient Array Operations: NumPy's core is the ndarray (n-dimensional array), which is significantly faster than Python lists for numerical computations.\n",
        "Broadcasting: Enables operations on arrays with different shapes, reducing the need for explicit loops.\n",
        "Mathematical Functions: Offers a wide range of mathematical, statistical, and linear algebra functions.\n",
        "Integration with Other Libraries: NumPy arrays are the standard data structure for libraries like SciPy, Pandas, and Scikit-learn, making it a cornerstone of the scientific Python ecosystem.\n",
        "Enhancement: NumPy enhances Python's capabilities by providing a powerful and efficient tool for handling numerical data, making it suitable for tasks ranging from simple calculations to complex data analysis and machine learning."
      ],
      "metadata": {
        "id": "7L0OWv7hhJbg"
      },
      "execution_count": null,
      "outputs": []
    },
    {
      "cell_type": "code",
      "source": [
        "2. Compare and contrast np.mean() and np.average() functions in NumPy. When would you use one over the other?\n",
        "\n",
        "np.mean(): Calculates the arithmetic mean (average) of the elements along a given axis. It doesn't consider weights.\n",
        "\n",
        "np.average(): Calculates the weighted average of the elements along a given axis. You can provide weights to give certain elements more importance in the average.\n",
        "\n",
        "When to use which:\n",
        "\n",
        "Use np.mean() when you want the simple average without considering any weights.\n",
        "Use np.average() when you need to calculate a weighted average, where some elements contribute more to the final result than others."
      ],
      "metadata": {
        "id": "bHQFiRikhJZe"
      },
      "execution_count": null,
      "outputs": []
    },
    {
      "cell_type": "code",
      "source": [
        "3. Describe the methods for reversing a NumPy array along different axes. Provide examples for 1D and 2D arrays.\n",
        "\n",
        "np.flip(): Reverses the order of elements along a given axis in an array.\n",
        "1D ARRAY:\n",
        "import numpy as np\n",
        "arr_1d = np.array([1, 2, 3, 4, 5])\n",
        "reversed_arr_1d = np.flip(arr_1d)\n",
        "print(reversed_arr_1d)  # Output: [5 4 3 2 1]\n",
        "2D ARRAY:\n",
        "import numpy as np\n",
        "arr_2d = np.array([[1, 2, 3], [4, 5, 6]])\n",
        "reversed_rows = np.flip(arr_2d, axis=0)  # Reverse along rows\n",
        "reversed_cols = np.flip(arr_2d, axis=1)  # Reverse along columns\n",
        "print(reversed_rows)\n",
        "print(reversed_cols)"
      ],
      "metadata": {
        "id": "CN8DAEtLhJVz"
      },
      "execution_count": null,
      "outputs": []
    },
    {
      "cell_type": "code",
      "source": [
        "4. How can you determine the data type of elements in a NumPy array? Discuss the importance of data types in memory management and performance.\n",
        "\n",
        "import numpy as np\n",
        "arr = np.array([1, 2, 3])\n",
        "print(arr.dtype)  # Output: int64 (or int32, depending on the system)\n",
        "Importance of Data Types:\n",
        "\n",
        "Memory Management: Choosing the right data type is crucial for efficient memory usage. For example, using int8 instead of int64 can significantly reduce memory consumption if you know your integers will be small.\n",
        "Performance: NumPy operations are much faster when the data type is consistent and optimized. Operations on arrays with mixed data types can be slower.\n",
        "\n"
      ],
      "metadata": {
        "id": "JLDjfewPhJTv"
      },
      "execution_count": null,
      "outputs": []
    },
    {
      "cell_type": "code",
      "source": [
        "5. Define ndarrays in NumPy and explain their key features. How do they differ from standard Python lists?\n",
        "\n",
        "ndarrays (n-dimensional arrays): The core data structure in NumPy. They are homogeneous, multi-dimensional arrays that store elements of the same data type.\n",
        "\n",
        "Key Features:\n",
        "\n",
        "Homogeneous: All elements have the same data type.\n",
        "Multi-dimensional: Can represent vectors, matrices, and higher-dimensional data.\n",
        "Fixed Size: The size of an ndarray is fixed when it's created.\n",
        "Efficient Operations: NumPy provides optimized functions for performing operations on ndarrays.\n",
        "Differences from Python Lists:\n",
        "\n",
        "Speed: ndarrays are significantly faster for numerical operations due to their homogeneous nature and optimized implementation.\n",
        "Memory Efficiency: ndarrays are more memory-efficient than Python lists, especially for large datasets.\n",
        "Functionality: NumPy provides a wide range of mathematical and scientific functions specifically designed for ndarrays."
      ],
      "metadata": {
        "id": "zX3xMGY7hJQQ"
      },
      "execution_count": null,
      "outputs": []
    },
    {
      "cell_type": "code",
      "source": [
        "6. Analyze the performance benefits of NumPy arrays over Python lists for large-scale numerical operations.\n",
        "\n",
        "Contiguous Memory Allocation: NumPy arrays store elements in contiguous memory blocks, allowing for faster access and processing.\n",
        "Vectorized Operations: NumPy operations are vectorized, meaning they are performed on entire arrays at once, eliminating the need for explicit loops (which are slow in Python).\n",
        "Optimized Implementation: NumPy is implemented in C and Fortran, making it much faster than pure Python code."
      ],
      "metadata": {
        "id": "hHGe_GyRhJNG"
      },
      "execution_count": null,
      "outputs": []
    },
    {
      "cell_type": "code",
      "source": [
        "7. Compare vstack() and hstack() functions in NumPy. Provide examples demonstrating their usage and output.\n",
        "\n",
        "vstack() (Vertical Stack): Stacks arrays in sequence vertically (row-wise).\n",
        "\n",
        "import numpy as np\n",
        "a = np.array([1, 2, 3])\n",
        "b = np.array([4, 5, 6])\n",
        "c = np.vstack((a, b))\n",
        "print(c)\n",
        "# Output:\n",
        "# [[1 2 3]\n",
        "#  [4 5 6]]\n",
        "hstack() (Horizontal Stack): Stacks arrays in sequence horizontally (column-wise).\n",
        "import numpy as np\n",
        "a = np.array([1, 2, 3])\n",
        "b = np.array([4, 5, 6])\n",
        "c = np.hstack((a, b))\n",
        "print(c)\n",
        "# Output: [1 2 3 4 5 6]\n"
      ],
      "metadata": {
        "id": "sA81N0GGhJIy"
      },
      "execution_count": null,
      "outputs": []
    },
    {
      "cell_type": "code",
      "source": [
        "8. Explain the differences between fliplr() and flipud() methods in NumPy, including their effects on various array dimensions.\n",
        "\n",
        "fliplr() (Flip Left-Right): Flips an array horizontally (along the columns). It reverses the order of columns in each row. It works on 2D arrays.\n",
        "import numpy as np\n",
        "arr = np.array([[1, 2, 3], [4, 5, 6]])\n",
        "flipped_lr = np.fliplr(arr)\n",
        "print(flipped_lr)\n",
        "# Output:\n",
        "# [[3 2 1]\n",
        "#  [6 5 4]]\n",
        "flipud() (Flip Up-Down): Flips an array vertically (along the rows). It reverses the order of rows. It works on 2D arrays.\n",
        "import numpy as np\n",
        "arr = np.array([[1, 2, 3], [4, 5, 6]])\n",
        "flipped_ud = np.flipud(arr)\n",
        "print(flipped_ud)\n",
        "# Output:\n",
        "# [[4 5 6]\n",
        "#  [1 2 3]]\n"
      ],
      "metadata": {
        "id": "u43sh5JfhJGi"
      },
      "execution_count": null,
      "outputs": []
    },
    {
      "cell_type": "code",
      "source": [
        "9. Discuss the functionality of the array_split() method in NumPy. How does it handle uneven splits?\n",
        "\n",
        "array_split(): Splits an array into multiple sub-arrays along a specified axis.\n",
        "\n",
        "Uneven Splits: If the array cannot be divided evenly, array_split() will distribute the remaining elements to the first few sub-arrays, resulting in sub-arrays of different sizes\n",
        "import numpy as np\n",
        "arr = np.array([1, 2, 3, 4, 5, 6, 7])\n",
        "split_arr = np.array_split(arr, 3)\n",
        "print(split_arr)\n",
        "# Output: [array([1, 2, 3]), array([4, 5]), array([6, 7])]"
      ],
      "metadata": {
        "id": "TRvAWEm5hJEb"
      },
      "execution_count": null,
      "outputs": []
    },
    {
      "cell_type": "code",
      "source": [
        "10. Explain the concepts of vectorization and broadcasting in NumPy. How do they contribute to efficient array operations?\n",
        "\n",
        "Vectorization: The process of performing operations on entire arrays at once, rather than element-by-element using loops. NumPy's vectorized operations are implemented in optimized C code, making them significantly faster.\n",
        "\n",
        "Broadcasting: A powerful mechanism that allows NumPy to perform arithmetic operations on arrays with different shapes. NumPy automatically expands the smaller array to match the shape of the larger array, enabling element-wise operations"
      ],
      "metadata": {
        "id": "4Z15bJaUhJCA"
      },
      "execution_count": null,
      "outputs": []
    },
    {
      "cell_type": "code",
      "source": [
        "#PRACTICAL_QUESTIONS:"
      ],
      "metadata": {
        "id": "j3UaiJG0hIpM"
      },
      "execution_count": null,
      "outputs": []
    },
    {
      "cell_type": "code",
      "execution_count": null,
      "metadata": {
        "id": "qcyE-BpaRPi4"
      },
      "outputs": [],
      "source": [
        "#1. Create a 3x3 NumPy array with random integers between 1 and 100. Then, interchange its rows and columns (transpose).\n",
        "import numpy as np\n",
        "\n",
        "# Create a 3x3 array with random integers between 1 and 100\n",
        "arr = np.random.randint(1, 101, size=(3, 3))\n",
        "print(\"Original Array:\\n\", arr)\n",
        "\n",
        "# Transpose the array (interchange rows and columns)\n",
        "transposed_arr = arr.T\n",
        "print(\"\\nTransposed Array:\\n\", transposed_arr)"
      ]
    },
    {
      "cell_type": "code",
      "source": [
        "#2.Generate a 1D NumPy array with 10 elements. Reshape it into a 2x5 array, then into a 5x2 array.\n",
        "import numpy as np\n",
        "\n",
        "# Generate a 1D array with 10 elements\n",
        "arr_1d = np.arange(10)\n",
        "print(\"1D Array:\\n\", arr_1d)\n",
        "\n",
        "# Reshape into a 2x5 array\n",
        "arr_2x5 = arr_1d.reshape(2, 5)\n",
        "print(\"\\n2x5 Array:\\n\", arr_2x5)\n",
        "\n",
        "# Reshape into a 5x2 array\n",
        "arr_5x2 = arr_1d.reshape(5, 2)\n",
        "print(\"\\n5x2 Array:\\n\", arr_5x2)"
      ],
      "metadata": {
        "id": "MV2WD56wRrS-"
      },
      "execution_count": null,
      "outputs": []
    },
    {
      "cell_type": "code",
      "source": [
        "#3. Create a 4x4 NumPy array with random float values. Add a border of zeros around it, resulting in a 6x6 array.\n",
        "import numpy as np\n",
        "\n",
        "# Create a 4x4 array with random float values\n",
        "arr_4x4 = np.random.rand(4, 4)\n",
        "print(\"Original 4x4 Array:\\n\", arr_4x4)\n",
        "\n",
        "# Create a 6x6 array filled with zeros\n",
        "arr_6x6 = np.zeros((6, 6))\n",
        "\n",
        "# Copy the 4x4 array into the center of the 6x6 array\n",
        "arr_6x6[1:-1, 1:-1] = arr_4x4\n",
        "print(\"\\n6x6 Array with Border of Zeros:\\n\", arr_6x6)"
      ],
      "metadata": {
        "id": "pJl9DQqxRrQK"
      },
      "execution_count": null,
      "outputs": []
    },
    {
      "cell_type": "code",
      "source": [
        "#4. Using NumPy, create an array of integers from 10 to 60 with a step of 5.\n",
        "import numpy as np\n",
        "\n",
        "# Create an array of integers from 10 to 60 with a step of 5\n",
        "arr = np.arange(10, 61, 5)\n",
        "print(\"Array:\\n\", arr)"
      ],
      "metadata": {
        "id": "wkSnKmdpRrNQ"
      },
      "execution_count": null,
      "outputs": []
    },
    {
      "cell_type": "code",
      "source": [
        "#5. Create a NumPy array of strings ['python', 'numpy', 'pandas']. Apply different case transformations (uppercase, lowercase, title case, etc.) to each element\n",
        "import numpy as np\n",
        "\n",
        "# Create a NumPy array of strings\n",
        "arr = np.array(['python', 'numpy', 'pandas'])\n",
        "\n",
        "# Apply case transformations\n",
        "uppercase_arr = np.char.upper(arr)\n",
        "lowercase_arr = np.char.lower(arr)\n",
        "titlecase_arr = np.char.title(arr)\n",
        "\n",
        "print(\"Original Array:\\n\", arr)\n",
        "print(\"\\nUppercase Array:\\n\", uppercase_arr)\n",
        "print(\"\\nLowercase Array:\\n\", lowercase_arr)\n",
        "print(\"\\nTitlecase Array:\\n\", titlecase_arr)"
      ],
      "metadata": {
        "id": "of0RX2KQRrKy"
      },
      "execution_count": null,
      "outputs": []
    },
    {
      "cell_type": "code",
      "source": [
        "#6. Generate a NumPy array of words. Insert a space between each character of every word in the array.\n",
        "import numpy as np\n",
        "\n",
        "# Generate a NumPy array of words\n",
        "words = np.array(['hello', 'world', 'numpy'])\n",
        "\n",
        "# Insert a space between each character\n",
        "spaced_words = np.array([' '.join(word) for word in words])\n",
        "print(\"Original Array:\\n\", words)\n",
        "print(\"\\nSpaced Words Array:\\n\", spaced_words)"
      ],
      "metadata": {
        "id": "Mb-u6r4-RrIW"
      },
      "execution_count": null,
      "outputs": []
    },
    {
      "cell_type": "code",
      "source": [
        "#7. Create two 2D NumPy arrays and perform element-wise addition, subtraction, multiplication, and division\n",
        "import numpy as np\n",
        "\n",
        "# Create two 2D arrays\n",
        "arr1 = np.array([[1, 2], [3, 4]])\n",
        "arr2 = np.array([[5, 6], [7, 8]])\n",
        "\n",
        "# Perform element-wise operations\n",
        "addition = arr1 + arr2\n",
        "subtraction = arr1 - arr2\n",
        "multiplication = arr1 * arr2\n",
        "division = arr1 / arr2\n",
        "\n",
        "print(\"Array 1:\\n\", arr1)\n",
        "print(\"\\nArray 2:\\n\", arr2)\n",
        "print(\"\\nAddition:\\n\", addition)\n",
        "print(\"\\nSubtraction:\\n\", subtraction)\n",
        "print(\"\\nMultiplication:\\n\", multiplication)\n",
        "print(\"\\nDivision:\\n\", division)"
      ],
      "metadata": {
        "id": "vH48E2z5RrFu"
      },
      "execution_count": null,
      "outputs": []
    },
    {
      "cell_type": "code",
      "source": [
        "#8. Use NumPy to create a 5x5 identity matrix, then extract its diagonal elements.\n",
        "import numpy as np\n",
        "\n",
        "# Create a 5x5 identity matrix\n",
        "identity_matrix = np.identity(5)\n",
        "print(\"Identity Matrix:\\n\", identity_matrix)\n",
        "\n",
        "# Extract diagonal elements\n",
        "diagonal_elements = np.diag(identity_matrix)\n",
        "print(\"\\nDiagonal Elements:\\n\", diagonal_elements)"
      ],
      "metadata": {
        "id": "t3anqA_7RrCz"
      },
      "execution_count": null,
      "outputs": []
    },
    {
      "cell_type": "code",
      "source": [
        "#9. Generate a NumPy array of 100 random integers between 0 and 1000. Find and display all prime numbers in this array.\n",
        "import numpy as np\n",
        "\n",
        "# Generate a NumPy array of 100 random integers between 0 and 1000\n",
        "arr = np.random.randint(0, 1001, 100)\n",
        "\n",
        "# Function to check if a number is prime\n",
        "def is_prime(n):\n",
        "    if n <= 1:\n",
        "        return False\n",
        "    for i in range(2, int(np.sqrt(n)) + 1):\n",
        "        if n % i == 0:\n",
        "            return False\n",
        "    return True\n",
        "\n",
        "# Find prime numbers in the array\n",
        "prime_numbers = arr[np.vectorize(is_prime)(arr)]\n",
        "print(\"Array:\\n\", arr)\n",
        "print(\"\\nPrime Numbers:\\n\", prime_numbers)"
      ],
      "metadata": {
        "id": "pNJHwXMyRrAc"
      },
      "execution_count": null,
      "outputs": []
    },
    {
      "cell_type": "code",
      "source": [
        "#10. Create a NumPy array representing daily temperatures for a month. Calculate and display the weekly averages\n",
        "import numpy as np\n",
        "\n",
        "# Create a NumPy array representing daily temperatures for a month (30 days)\n",
        "temperatures = np.random.randint(20, 40, 30)\n",
        "\n",
        "# Calculate weekly averages\n",
        "weekly_averages = [np.mean(temperatures[i:i+7]) for i in range(0, 30, 7)]\n",
        "\n",
        "print(\"Temperatures:\\n\", temperatures)\n",
        "print(\"\\nWeekly Averages:\\n\", weekly_averages)"
      ],
      "metadata": {
        "id": "9ulQIEAqRq-L"
      },
      "execution_count": null,
      "outputs": []
    }
  ]
}