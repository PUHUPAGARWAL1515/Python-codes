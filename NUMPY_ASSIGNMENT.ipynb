{
  "nbformat": 4,
  "nbformat_minor": 0,
  "metadata": {
    "colab": {
      "provenance": [],
      "authorship_tag": "ABX9TyPPZlgQHRazuHHU8WB8LBLi",
      "include_colab_link": true
    },
    "kernelspec": {
      "name": "python3",
      "display_name": "Python 3"
    },
    "language_info": {
      "name": "python"
    }
  },
  "cells": [
    {
      "cell_type": "markdown",
      "metadata": {
        "id": "view-in-github",
        "colab_type": "text"
      },
      "source": [
        "<a href=\"https://colab.research.google.com/github/PUHUPAGARWAL1515/Python-codes/blob/main/NUMPY_ASSIGNMENT.ipynb\" target=\"_parent\"><img src=\"https://colab.research.google.com/assets/colab-badge.svg\" alt=\"Open In Colab\"/></a>"
      ]
    },
    {
      "cell_type": "code",
      "execution_count": null,
      "metadata": {
        "id": "qcyE-BpaRPi4"
      },
      "outputs": [],
      "source": [
        "#1. Create a 3x3 NumPy array with random integers between 1 and 100. Then, interchange its rows and columns (transpose).\n",
        "import numpy as np\n",
        "\n",
        "# Create a 3x3 array with random integers between 1 and 100\n",
        "arr = np.random.randint(1, 101, size=(3, 3))\n",
        "print(\"Original Array:\\n\", arr)\n",
        "\n",
        "# Transpose the array (interchange rows and columns)\n",
        "transposed_arr = arr.T\n",
        "print(\"\\nTransposed Array:\\n\", transposed_arr)"
      ]
    },
    {
      "cell_type": "code",
      "source": [
        "#2.Generate a 1D NumPy array with 10 elements. Reshape it into a 2x5 array, then into a 5x2 array.\n",
        "import numpy as np\n",
        "\n",
        "# Generate a 1D array with 10 elements\n",
        "arr_1d = np.arange(10)\n",
        "print(\"1D Array:\\n\", arr_1d)\n",
        "\n",
        "# Reshape into a 2x5 array\n",
        "arr_2x5 = arr_1d.reshape(2, 5)\n",
        "print(\"\\n2x5 Array:\\n\", arr_2x5)\n",
        "\n",
        "# Reshape into a 5x2 array\n",
        "arr_5x2 = arr_1d.reshape(5, 2)\n",
        "print(\"\\n5x2 Array:\\n\", arr_5x2)"
      ],
      "metadata": {
        "id": "MV2WD56wRrS-"
      },
      "execution_count": null,
      "outputs": []
    },
    {
      "cell_type": "code",
      "source": [
        "#3. Create a 4x4 NumPy array with random float values. Add a border of zeros around it, resulting in a 6x6 array.\n",
        "import numpy as np\n",
        "\n",
        "# Create a 4x4 array with random float values\n",
        "arr_4x4 = np.random.rand(4, 4)\n",
        "print(\"Original 4x4 Array:\\n\", arr_4x4)\n",
        "\n",
        "# Create a 6x6 array filled with zeros\n",
        "arr_6x6 = np.zeros((6, 6))\n",
        "\n",
        "# Copy the 4x4 array into the center of the 6x6 array\n",
        "arr_6x6[1:-1, 1:-1] = arr_4x4\n",
        "print(\"\\n6x6 Array with Border of Zeros:\\n\", arr_6x6)"
      ],
      "metadata": {
        "id": "pJl9DQqxRrQK"
      },
      "execution_count": null,
      "outputs": []
    },
    {
      "cell_type": "code",
      "source": [
        "#4. Using NumPy, create an array of integers from 10 to 60 with a step of 5.\n",
        "import numpy as np\n",
        "\n",
        "# Create an array of integers from 10 to 60 with a step of 5\n",
        "arr = np.arange(10, 61, 5)\n",
        "print(\"Array:\\n\", arr)"
      ],
      "metadata": {
        "id": "wkSnKmdpRrNQ"
      },
      "execution_count": null,
      "outputs": []
    },
    {
      "cell_type": "code",
      "source": [
        "#5. Create a NumPy array of strings ['python', 'numpy', 'pandas']. Apply different case transformations (uppercase, lowercase, title case, etc.) to each element\n",
        "import numpy as np\n",
        "\n",
        "# Create a NumPy array of strings\n",
        "arr = np.array(['python', 'numpy', 'pandas'])\n",
        "\n",
        "# Apply case transformations\n",
        "uppercase_arr = np.char.upper(arr)\n",
        "lowercase_arr = np.char.lower(arr)\n",
        "titlecase_arr = np.char.title(arr)\n",
        "\n",
        "print(\"Original Array:\\n\", arr)\n",
        "print(\"\\nUppercase Array:\\n\", uppercase_arr)\n",
        "print(\"\\nLowercase Array:\\n\", lowercase_arr)\n",
        "print(\"\\nTitlecase Array:\\n\", titlecase_arr)"
      ],
      "metadata": {
        "id": "of0RX2KQRrKy"
      },
      "execution_count": null,
      "outputs": []
    },
    {
      "cell_type": "code",
      "source": [
        "#6. Generate a NumPy array of words. Insert a space between each character of every word in the array.\n",
        "import numpy as np\n",
        "\n",
        "# Generate a NumPy array of words\n",
        "words = np.array(['hello', 'world', 'numpy'])\n",
        "\n",
        "# Insert a space between each character\n",
        "spaced_words = np.array([' '.join(word) for word in words])\n",
        "print(\"Original Array:\\n\", words)\n",
        "print(\"\\nSpaced Words Array:\\n\", spaced_words)"
      ],
      "metadata": {
        "id": "Mb-u6r4-RrIW"
      },
      "execution_count": null,
      "outputs": []
    },
    {
      "cell_type": "code",
      "source": [
        "#7. Create two 2D NumPy arrays and perform element-wise addition, subtraction, multiplication, and division\n",
        "import numpy as np\n",
        "\n",
        "# Create two 2D arrays\n",
        "arr1 = np.array([[1, 2], [3, 4]])\n",
        "arr2 = np.array([[5, 6], [7, 8]])\n",
        "\n",
        "# Perform element-wise operations\n",
        "addition = arr1 + arr2\n",
        "subtraction = arr1 - arr2\n",
        "multiplication = arr1 * arr2\n",
        "division = arr1 / arr2\n",
        "\n",
        "print(\"Array 1:\\n\", arr1)\n",
        "print(\"\\nArray 2:\\n\", arr2)\n",
        "print(\"\\nAddition:\\n\", addition)\n",
        "print(\"\\nSubtraction:\\n\", subtraction)\n",
        "print(\"\\nMultiplication:\\n\", multiplication)\n",
        "print(\"\\nDivision:\\n\", division)"
      ],
      "metadata": {
        "id": "vH48E2z5RrFu"
      },
      "execution_count": null,
      "outputs": []
    },
    {
      "cell_type": "code",
      "source": [
        "#8. Use NumPy to create a 5x5 identity matrix, then extract its diagonal elements.\n",
        "import numpy as np\n",
        "\n",
        "# Create a 5x5 identity matrix\n",
        "identity_matrix = np.identity(5)\n",
        "print(\"Identity Matrix:\\n\", identity_matrix)\n",
        "\n",
        "# Extract diagonal elements\n",
        "diagonal_elements = np.diag(identity_matrix)\n",
        "print(\"\\nDiagonal Elements:\\n\", diagonal_elements)"
      ],
      "metadata": {
        "id": "t3anqA_7RrCz"
      },
      "execution_count": null,
      "outputs": []
    },
    {
      "cell_type": "code",
      "source": [
        "#9. Generate a NumPy array of 100 random integers between 0 and 1000. Find and display all prime numbers in this array.\n",
        "import numpy as np\n",
        "\n",
        "# Generate a NumPy array of 100 random integers between 0 and 1000\n",
        "arr = np.random.randint(0, 1001, 100)\n",
        "\n",
        "# Function to check if a number is prime\n",
        "def is_prime(n):\n",
        "    if n <= 1:\n",
        "        return False\n",
        "    for i in range(2, int(np.sqrt(n)) + 1):\n",
        "        if n % i == 0:\n",
        "            return False\n",
        "    return True\n",
        "\n",
        "# Find prime numbers in the array\n",
        "prime_numbers = arr[np.vectorize(is_prime)(arr)]\n",
        "print(\"Array:\\n\", arr)\n",
        "print(\"\\nPrime Numbers:\\n\", prime_numbers)"
      ],
      "metadata": {
        "id": "pNJHwXMyRrAc"
      },
      "execution_count": null,
      "outputs": []
    },
    {
      "cell_type": "code",
      "source": [
        "#10. Create a NumPy array representing daily temperatures for a month. Calculate and display the weekly averages\n",
        "import numpy as np\n",
        "\n",
        "# Create a NumPy array representing daily temperatures for a month (30 days)\n",
        "temperatures = np.random.randint(20, 40, 30)\n",
        "\n",
        "# Calculate weekly averages\n",
        "weekly_averages = [np.mean(temperatures[i:i+7]) for i in range(0, 30, 7)]\n",
        "\n",
        "print(\"Temperatures:\\n\", temperatures)\n",
        "print(\"\\nWeekly Averages:\\n\", weekly_averages)"
      ],
      "metadata": {
        "id": "9ulQIEAqRq-L"
      },
      "execution_count": null,
      "outputs": []
    }
  ]
}