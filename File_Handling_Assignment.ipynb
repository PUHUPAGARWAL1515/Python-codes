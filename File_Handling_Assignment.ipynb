{
  "nbformat": 4,
  "nbformat_minor": 0,
  "metadata": {
    "colab": {
      "provenance": [],
      "authorship_tag": "ABX9TyMA4oWZ6K1pZicZIQ3NhPGy",
      "include_colab_link": true
    },
    "kernelspec": {
      "name": "python3",
      "display_name": "Python 3"
    },
    "language_info": {
      "name": "python"
    }
  },
  "cells": [
    {
      "cell_type": "markdown",
      "metadata": {
        "id": "view-in-github",
        "colab_type": "text"
      },
      "source": [
        "<a href=\"https://colab.research.google.com/github/PUHUPAGARWAL1515/Python-codes/blob/main/File_Handling_Assignment.ipynb\" target=\"_parent\"><img src=\"https://colab.research.google.com/assets/colab-badge.svg\" alt=\"Open In Colab\"/></a>"
      ]
    },
    {
      "cell_type": "code",
      "execution_count": null,
      "metadata": {
        "id": "FuVtKIECexpU"
      },
      "outputs": [],
      "source": [
        "1.What is the difference between interpreted and compiled languages?\n",
        "\n",
        "Interpreted Languages: Code is executed line by line by an interpreter. The interpreter reads a statement, translates it into machine code (or an intermediate form), and executes it before moving to the next statement. Examples include Python, JavaScript, and Ruby.\n",
        "Compiled Languages: The entire source code is first translated into machine code (or bytecode) by a compiler. This compiled code is then executed directly by the computer's processor or a virtual machine. Examples include C, C++, and Java.\n",
        "Key differences include:\n",
        "\n",
        "Execution: Interpreted languages execute line by line, while compiled languages execute the entire compiled code.\n",
        "Compilation Step: Compiled languages require a separate compilation step before execution, while interpreted languages do not.\n",
        "Portability: Interpreted languages are often more portable as the same code can run on any platform with a suitable interpreter. Compiled languages might need to be recompiled for different platforms.\n",
        "Debugging: Debugging can be easier in interpreted languages as errors are caught during runtime, statement by statement.\n",
        "Performance: Compiled languages generally offer better performance as the code is directly executed by the processor."
      ]
    },
    {
      "cell_type": "code",
      "source": [
        "What is exception handling in Python?\n",
        "\n",
        "Exception handling in Python is a mechanism to deal with runtime errors (exceptions) that can occur during the execution of a program. It allows you to gracefully handle these errors, prevent the program from crashing, and potentially take corrective actions. Python uses try, except, else, and finally blocks for exception handling."
      ],
      "metadata": {
        "id": "s6un8eJhe1ut"
      },
      "execution_count": null,
      "outputs": []
    },
    {
      "cell_type": "code",
      "source": [
        "What is the purpose of the finally block in exception handling?\n",
        "\n",
        "The finally block in exception handling is used to define a block of code that will always be executed, regardless of whether an exception was raised in the try block, whether it was caught by an except block, or whether the try block exited normally. It is typically used for cleanup operations, such as closing files, releasing resources, or disconnecting from databases"
      ],
      "metadata": {
        "id": "K3LUlYdQe1fO"
      },
      "execution_count": null,
      "outputs": []
    },
    {
      "cell_type": "code",
      "source": [
        "What is logging in Python?\n",
        "\n",
        "Logging in Python is a way to track events that occur when your software runs. It involves recording information about the program's execution, such as errors, warnings, informational messages, and debugging details, to a file, the console, or another destination. The logging module in Python provides a flexible and powerful system for this purpose. Logging is crucial for debugging, monitoring, and understanding the behavior of applications, especially in production environments."
      ],
      "metadata": {
        "id": "VULlWyV_f45y"
      },
      "execution_count": null,
      "outputs": []
    },
    {
      "cell_type": "code",
      "source": [
        "What is the significance of the __del__ method in Python?\n",
        "\n",
        "The __del__ method is a special method (also known as a destructor) in Python that is called when an object is about to be garbage collected. Its intended purpose is to perform final cleanup operations for the object, such as releasing external resources (e.g., closing files or network connections). However, the __del__ method has some important caveats:\n",
        "\n",
        "Unpredictable Timing: The exact time when __del__ is called is not guaranteed and depends on the garbage collector's behavior. It might not be called immediately when an object is no longer referenced.\n",
        "Potential Issues: Exceptions raised within __del__ are ignored, and it can lead to unexpected behavior or prevent necessary cleanup. It can also create reference cycles that prevent objects from being garbage collected.\n",
        "Due to these issues, it is generally recommended to avoid relying heavily on __del__ for resource management. Instead, use context managers (with statement) or explicit cleanup methods.\n",
        "\n"
      ],
      "metadata": {
        "id": "8mrjUsVVf43Y"
      },
      "execution_count": null,
      "outputs": []
    },
    {
      "cell_type": "code",
      "source": [
        "What is the difference between import and from ... import ... in Python?\n",
        "\n",
        "import module_name: This statement imports the entire module. To access names (functions, classes, variables) within the module, you need to use the module name as a prefix (e.g., module_name.function_name). This helps in avoiding namespace collisions when different modules have names.\n",
        "from module_name import name1, name2, ...: This statement imports specific names (functions, classes, variables) directly from the module into the current namespace. You can then use these names without the module prefix (e.g., function_name). While convenient, this can potentially lead to namespace collisions if imported names conflict with existing names in the current scope.\n",
        "from module_name import *: This imports all names from the module into the current namespace. This is generally discouraged as it can significantly increase the risk of namespace collisions and make it harder to determine where names originate from."
      ],
      "metadata": {
        "id": "c0tfVN65f41M"
      },
      "execution_count": null,
      "outputs": []
    },
    {
      "cell_type": "code",
      "source": [
        "7. How can you handle multiple exceptions in Python?\n",
        "\n",
        "You can handle multiple exceptions in Python using several approaches:\n",
        "\n",
        "Multiple except blocks: The most straightforward way is to have separate except blocks for each specific exception type you want to handle differently.\n",
        "try:\n",
        "    result = 10 / int(input(\"Enter a number: \"))\n",
        "    print(\"Result:\", result)\n",
        "except ValueError:\n",
        "    print(\"Invalid input. Please enter an integer.\")\n",
        "except ZeroDivisionError:\n",
        "    print(\"Cannot divide by zero.\")"
      ],
      "metadata": {
        "id": "PxeHckZKf4zR"
      },
      "execution_count": null,
      "outputs": []
    },
    {
      "cell_type": "code",
      "source": [
        "What is the purpose of the with statement when handling files in Python?\n",
        "\n",
        "The with statement in Python is used to manage resources, like files, by ensuring that they are properly cleaned up after their use, even if errors occur. For file handling, the with statement guarantees that the file will be automatically closed once the block of code within the with statement is finished executing. This prevents resource leaks and ensures data is written to the file properly.\n",
        "\n",
        "Python\n",
        "\n",
        "with open(\"my_file.txt\", \"r\") as file:\n",
        "    content = file.read()\n",
        "    print(content)\n",
        "# file is automatically closed here"
      ],
      "metadata": {
        "id": "TFodKkfEf4v0"
      },
      "execution_count": null,
      "outputs": []
    },
    {
      "cell_type": "code",
      "source": [
        ". What is the difference between multithreading and multiprocessing?\n",
        "\n",
        "Multithreading: Involves running multiple threads within a single process. Threads share the same memory space. This can lead to issues with the Global Interpreter Lock (GIL) in CPython, which limits the actual parallelism for CPU-bound tasks. Multithreading is often effective for I/O-bound tasks where threads spend time waiting for external operations.\n",
        "\n",
        "Multiprocessing: Involves creating and running multiple independent processes. Each process has its own memory space. This avoids the GIL limitation and allows for true parallelism on multi-core processors, making it suitable for CPU-bound tasks. However, inter-process communication (IPC) can be more complex than communication between threads."
      ],
      "metadata": {
        "id": "HMSj57Ojf4sh"
      },
      "execution_count": null,
      "outputs": []
    },
    {
      "cell_type": "code",
      "source": [
        "10. What are the advantages of using logging in a program?\n",
        "\n",
        "Using logging in a program offers several advantages:\n",
        "\n",
        "Debugging and Troubleshooting: Provides detailed information about the program's execution, making it easier to identify and fix errors.\n",
        "Monitoring: Allows you to track the program's behavior in real-time or retrospectively.\n",
        "Auditing: Records important events and actions, which can be useful for security and compliance purposes.\n",
        "Information Levels: Enables you to categorize messages by severity (e.g., DEBUG, INFO, WARNING, ERROR, CRITICAL), allowing you to filter the output based on your needs.\n",
        "Configuration: Logging behavior (e.g., output format, destination) can be easily configured without modifying the application code.\n",
        "Separation of Concerns: Keeps logging statements separate from the core application logic."
      ],
      "metadata": {
        "id": "ugEYGHUMf4qK"
      },
      "execution_count": null,
      "outputs": []
    },
    {
      "cell_type": "code",
      "source": [
        "11. What is memory management in Python?\n",
        "\n",
        "Memory management in Python involves the automatic allocation and deallocation of memory for objects. Python uses a private heap to store objects. The Python memory manager handles this heap. Key aspects of memory management in Python include:\n",
        "\n",
        "Automatic Memory Allocation: Python automatically allocates memory when you create objects.\n",
        "Garbage Collection: Python uses a garbage collector to automatically reclaim memory occupied by objects that are no longer referenced by the program. The primary garbage collection mechanism is reference counting, supplemented by a generational garbage collector to handle cyclic references."
      ],
      "metadata": {
        "id": "cTzCyRhOf4nP"
      },
      "execution_count": null,
      "outputs": []
    },
    {
      "cell_type": "code",
      "source": [
        "12. What are the basic steps involved in exception handling in Python?\n",
        "\n",
        "The basic steps involved in exception handling in Python are:\n",
        "\n",
        "try block: Enclose the code that might raise an exception within a try block.\n",
        "except block(s): Define one or more except blocks to specify how to handle specific exceptions that might occur in the try block.\n",
        "Optional else block: An optional else block can be included after the except blocks. The code in the else block is executed only if no exceptions were raised in the try block.\n",
        "Optional finally block: An optional finally block can be included after the except (and else) blocks. The code in the finally block is always executed, regardless of whether an exception was raised or handled."
      ],
      "metadata": {
        "id": "uBGIo7-8f4ks"
      },
      "execution_count": null,
      "outputs": []
    },
    {
      "cell_type": "code",
      "source": [
        "13. Why is memory management important in Python?\n",
        "\n",
        "Memory management is crucial in Python for several reasons:\n",
        "\n",
        "Preventing Memory Leaks: Automatic garbage collection helps prevent memory leaks, where memory is allocated but never freed, leading to program slowdown and potential crashes.\n",
        "Efficient Resource Utilization: Proper memory management ensures that memory resources are used efficiently, allowing programs to run smoothly and handle larger datasets.\n",
        "Simplified Development: Automatic memory management frees developers from the burden of manually allocating and deallocating memory, allowing them to focus on the application logic.\n",
        "Stability: Effective memory management contributes to the overall stability and reliability of Python applications."
      ],
      "metadata": {
        "id": "qiE7Yg-zf4is"
      },
      "execution_count": null,
      "outputs": []
    },
    {
      "cell_type": "code",
      "source": [
        "14. What is the role of try and except in exception handling?\n",
        "\n",
        "try: The try block is used to enclose the code that you suspect might raise one or more exceptions. Python will execute the code within the try block. If an exception occurs during the execution of this code, Python will look for a matching except block to handle it.\n",
        "\n",
        "except: The except block is used to define how to respond to a specific exception (or a group of exceptions) that might be raised within the preceding try block. When an exception occurs in the try block, Python searches for an except block that matches the type of the exception. If a match is found, the code within that except block is executed."
      ],
      "metadata": {
        "id": "q9gizHhlf4fk"
      },
      "execution_count": null,
      "outputs": []
    },
    {
      "cell_type": "code",
      "source": [
        "15. How does Python's garbage collection system work?\n",
        "\n",
        "Python's garbage collection system primarily uses two techniques:\n",
        "\n",
        "Reference Counting: This is the primary mechanism. Each object in Python has a reference counter that keeps track of how many variables or other objects are referencing it. When an object's reference count drops to zero, it means that no part of the program can access it anymore, and its memory can be safely reclaimed.\n",
        "\n",
        "Generational Garbage Collector: Reference counting alone cannot handle cyclic references (where two or more objects refer to each other, but are not reachable from the rest of the program). To address this, Python has a generational garbage collector. It divides objects into generations based on how long they have survived. Objects that have survived longer are less likely to become garbage. The garbage collector runs more frequently on younger generations and less frequently on older generations, improving efficiency."
      ],
      "metadata": {
        "id": "MeZsjG7lf4cX"
      },
      "execution_count": null,
      "outputs": []
    },
    {
      "cell_type": "code",
      "source": [
        "16. What is the purpose of the else block in exception handling?\n",
        "\n",
        "The optional else block in a try...except statement is executed only if the try block completes without raising any exceptions. It's a good place to put code that depends on the successful execution of the try block.\n",
        "\n",
        "Python\n",
        "\n",
        "try:\n",
        "    num = int(input(\"Enter a positive integer: \"))\n",
        "    if num <= 0:\n",
        "        raise ValueError(\"Input must be a positive integer.\")\n",
        "except ValueError as e:\n",
        "    print(\"Error:\", e)\n",
        "else:\n",
        "    print(\"You entered a valid positive integer:\", num)"
      ],
      "metadata": {
        "id": "j4KR4_ERf4Zs"
      },
      "execution_count": null,
      "outputs": []
    },
    {
      "cell_type": "code",
      "source": [
        "17. What are the common logging levels in Python?\n",
        "\n",
        "The logging module in Python defines several standard logging levels, each indicating the severity of the logged event:\n",
        "\n",
        "DEBUG: Detailed information, typically of interest only when diagnosing problems.\n",
        "INFO: Confirmation that things are working as expected.\n",
        "WARNING: An indication that something unexpected happened, or indicative of some problem in the near future (e.g., ‘disk space low’). The software is still working as expected.\n",
        "ERROR: Due to a more serious problem, the software has not been able to perform some function.\n",
        "CRITICAL: A serious error, indicating that the program itself may be unable to continue running.\n"
      ],
      "metadata": {
        "id": "ZskWywGWf4XH"
      },
      "execution_count": null,
      "outputs": []
    },
    {
      "cell_type": "code",
      "source": [
        "18. What is the difference between os.fork() and multiprocessing in Python?\n",
        "\n",
        "os.fork() (Unix-like systems): This is a low-level system call that creates a new process by duplicating the existing (parent) process. The child process starts executing from the point of the fork() call. The child process inherits most of the parent's resources (memory, open files, etc.), but they become independent copies. os.fork() is primarily available on Unix-like systems.\n",
        "\n",
        "multiprocessing module (cross-platform): This is a higher-level module that provides a way to create and manage processes in a more platform-independent manner (works on Windows as well). It offers more features for inter-process communication (like pipes, queues, shared memory) and process management. The multiprocessing module typically starts new Python interpreters for each process, ensuring better isolation.\n",
        "\n",
        "In essence, os.fork() is a direct system call, while multiprocessing is a Python library that provides a more structured and portable way to work with multiple processes."
      ],
      "metadata": {
        "id": "A5ObdIeWf4Ug"
      },
      "execution_count": null,
      "outputs": []
    },
    {
      "cell_type": "code",
      "source": [
        "19. What is the importance of closing a file in Python?\n",
        "\n",
        "Closing a file in Python is important for several reasons:\n",
        "\n",
        "Resource Management: Operating systems have limits on the number of files a process can have open simultaneously. Failing to close files can lead to resource exhaustion errors.\n",
        "Data Integrity: When you write to a file, the data might be buffered in memory. Closing the file ensures that all buffered data is flushed to disk, preventing data loss.\n",
        "File Locking: Open files might be locked by the process, preventing other processes or even the same process from accessing or modifying them. Closing the file releases the lock.\n",
        "Preventing Corruption: Improperly closed files can sometimes become corrupted.\n",
        "The with statement is the recommended way to handle files as it automatically ensures that the file is closed, even if errors occur."
      ],
      "metadata": {
        "id": "9DNT-hVBf4R3"
      },
      "execution_count": null,
      "outputs": []
    },
    {
      "cell_type": "code",
      "source": [
        "20. What is the difference between file.read() and file.readline() in Python?\n",
        "\n",
        "The key difference lies in how much of the file each method reads:\n",
        "\n",
        "file.read(): This method reads the entire file content as a single string. If you don't specify a size argument, it will read until the end of the file. If you provide a size argument (e.g., file.read(10)), it reads at most that many bytes.\n",
        "\n",
        "file.readline(): This method reads a single line from the file, including the trailing newline character (\\n) if present. Subsequent calls to readline() will read the next line. When the end of the file is reached, readline() returns an empty string ('').\n",
        "\n",
        "In essence: read() gets the whole thing (or a chunk), while readline() gets one line at a time."
      ],
      "metadata": {
        "id": "R_Fg0nvZ_SEp"
      },
      "execution_count": null,
      "outputs": []
    },
    {
      "cell_type": "code",
      "source": [
        "21. What is the logging module in Python used for?\n",
        "\n",
        "The logging module in Python provides a flexible and powerful system for tracking events that occur while your software runs. It's used for:\n",
        "\n",
        "Debugging: Recording detailed information about the program's execution to help identify and fix errors.\n",
        "Monitoring: Tracking the application's behavior in production, such as user actions, system status, and performance metrics.\n",
        "Auditing: Keeping a record of important events for security or compliance purposes.\n",
        "Informing Users: Providing informative messages to the console or log files about the application's progress or any issues.\n",
        "Instead of just using print() statements (which are often temporary and less manageable), the logging module allows you to categorize messages by severity (e.g., DEBUG, INFO, WARNING, ERROR, CRITICAL), direct output to different destinations (console, files, network), and format messages consistently.\n",
        "\n"
      ],
      "metadata": {
        "id": "ULpdVHFQ_SBv"
      },
      "execution_count": null,
      "outputs": []
    },
    {
      "cell_type": "code",
      "source": [
        "22. What is the os module in Python used for in file handling?\n",
        "\n",
        "The os module in Python provides a way of using operating system dependent functionality. While it doesn't directly read or write the content of files, it offers a wide range of functions for interacting with the file system, including:\n",
        "\n",
        "Path manipulation: Joining path components (os.path.join), getting the directory name (os.path.dirname), getting the base name (os.path.basename), checking if a path exists (os.path.exists).\n",
        "File and directory operations: Creating directories (os.makedirs), renaming files or directories (os.rename), deleting files (os.remove), deleting directories (os.rmdir, os.removedirs), listing directory contents (os.listdir).\n",
        "Getting file information: Accessing file metadata like size, modification time, and permissions (os.path.getsize, os.path.getmtime).\n",
        "Changing the current working directory: (os.chdir).\n",
        "For actually reading and writing file content, you would typically use the built-in open() function. The os module helps you manage the files and directories themselves."
      ],
      "metadata": {
        "id": "Ay6d44zR_R-d"
      },
      "execution_count": null,
      "outputs": []
    },
    {
      "cell_type": "code",
      "source": [
        "23. What are the challenges associated with memory management in Python?\n",
        "\n",
        "While Python's automatic memory management (garbage collection) is convenient, it can present certain challenges:\n",
        "\n",
        "Overhead of Garbage Collection: The garbage collector runs periodically in the background, which can consume CPU resources and potentially introduce pauses in the program's execution. This can be a concern for performance-critical applications.\n",
        "Memory Leaks (Indirectly): Although Python's garbage collector handles most memory deallocation, memory leaks can still occur in certain situations, such as:\n",
        "Circular references: When objects refer to each other in a way that the garbage collector's standard reference counting can't detect as garbage. Python's generational garbage collector helps with this but isn't foolproof.\n",
        "Holding onto large objects unnecessarily: If you keep references to large data structures even when they are no longer needed, the garbage collector won't be able to free that memory.\n",
        "Interactions with C extensions: Memory management issues in C extensions can sometimes lead to problems that affect the Python interpreter.\n",
        "Unpredictable Timing of Garbage Collection: You don't have direct control over when the garbage collector runs. This can make it difficult to predict memory usage patterns and potentially lead to unexpected performance fluctuations.\n",
        "Memory Fragmentation: Over time, the allocation and deallocation of memory can lead to fragmentation, where free memory is broken into small, non-contiguous blocks. This can make it difficult to allocate large contiguous blocks of memory when needed."
      ],
      "metadata": {
        "id": "vVjtHMgr_R76"
      },
      "execution_count": null,
      "outputs": []
    },
    {
      "cell_type": "code",
      "source": [
        "24. How do you raise an exception manually in Python?\n",
        "\n",
        "You can raise an exception manually in Python using the raise statement. You need to specify the exception class you want to raise (or an instance of an exception class).\n",
        "\n",
        "Here's the basic syntax:\n",
        "\n",
        "Python\n",
        "\n",
        "raise ExceptionClass(\"Optional error message\")\n",
        "For example:\n",
        "\n",
        "Python\n",
        "\n",
        "def check_value(x):\n",
        "  if x < 0:\n",
        "    raise ValueError(\"Input value cannot be negative\")\n",
        "  print(\"Value is:\", x)\n",
        "\n",
        "try:\n",
        "  check_value(-5)\n",
        "except ValueError as e:\n",
        "  print(\"Caught an error:\", e)\n",
        "\n",
        "check_value(10)\n",
        "In this example, if x is negative, a ValueError exception is raised with a specific error message. The try...except block then catches and handles this exception. You can raise built-in exceptions like TypeError, IndexError, FileNotFoundError, or create your own custom exception classes by inheriting from the Exception base class."
      ],
      "metadata": {
        "id": "HsYoLEjW_R5e"
      },
      "execution_count": null,
      "outputs": []
    },
    {
      "cell_type": "code",
      "source": [
        "25. Why is it important to use multithreading in certain applications?\n",
        "\n",
        "Multithreading is important in certain applications because it allows for concurrency within a single process. This can lead to several benefits:\n",
        "\n",
        "Improved Responsiveness: In applications with time-consuming tasks (like network requests, file I/O, or complex calculations), using threads allows the main part of the application to remain responsive to user input while these tasks run in the background. Without threads, the entire application might freeze until the long task completes.\n",
        "Increased Performance (for I/O-bound tasks): For tasks that involve waiting for external resources (like reading from a disk or fetching data from the internet), threads can improve performance by allowing the CPU to switch to another thread that is ready to run while one thread is waiting. This prevents the CPU from sitting idle.\n",
        "Better Resource Utilization: On multi-core processors, multithreading can potentially utilize multiple CPU cores, allowing for parallel execution of different parts of the application and thus improving overall throughput.\n",
        "Simplified Design for Concurrent Operations: Multithreading can sometimes make it easier to structure and reason about applications that need to perform multiple tasks concurrently.\n",
        "However, it's important to note that due to the Global Interpreter Lock (GIL) in standard Python (CPython), true parallelism for CPU-bound tasks might not be fully achieved with threads. For such tasks, multiprocessing (using the multiprocessing module) is often a better choice as it utilizes separate processes with their own memory spaces, bypassing the GIL limitation. Multithreading remains valuable for I/O-bound and GUI applications where responsiveness is crucial."
      ],
      "metadata": {
        "id": "PdQuC48U_R27"
      },
      "execution_count": null,
      "outputs": []
    },
    {
      "cell_type": "code",
      "source": [
        "#PRACTICAL_QUESTIONS"
      ],
      "metadata": {
        "id": "nmK9WiRq_R0c"
      },
      "execution_count": null,
      "outputs": []
    },
    {
      "cell_type": "code",
      "source": [
        "#1. How can you open a file for writing in Python and write a string to it?\n",
        "\n",
        "#try:\n",
        "    with open(\"my_file.txt\", \"w\") as file:\n",
        "        my_string = \"Hello, world!\"\n",
        "        file.write(my_string)\n",
        "    print(\"String written to my_file.txt\")\n",
        "except Exception as e:\n",
        "    print(f\"An error occurred: {e}\")"
      ],
      "metadata": {
        "id": "L-hb-e2m_RyJ"
      },
      "execution_count": null,
      "outputs": []
    },
    {
      "cell_type": "code",
      "source": [
        "#2. Write a Python program to read the contents of a file and print each line.\n",
        "\n",
        "#Python\n",
        "\n",
        "try:\n",
        "    with open(\"my_file.txt\", \"r\") as file:\n",
        "        for line in file:\n",
        "            print(line, end='')  # end='' prevents extra newline characters\n",
        "except FileNotFoundError:\n",
        "    print(\"Error: The file 'my_file.txt' was not found.\")\n",
        "except Exception as e:\n",
        "    print(f\"An error occurred: {e}\")"
      ],
      "metadata": {
        "id": "t_NnijST_Rvn"
      },
      "execution_count": null,
      "outputs": []
    },
    {
      "cell_type": "code",
      "source": [
        "#3. How would you handle a case where the file doesn't exist while trying to open it for reading?\n",
        "try:\n",
        "    with open(\"non_existent_file.txt\", \"r\") as file:\n",
        "        # Process the file content\n",
        "        pass\n",
        "except FileNotFoundError:\n",
        "    print(\"Error: The specified file was not found.\")\n",
        "except Exception as e:\n",
        "    print(f\"An unexpected error occurred: {e}\")"
      ],
      "metadata": {
        "id": "SnQAv2zAJgNc"
      },
      "execution_count": null,
      "outputs": []
    },
    {
      "cell_type": "code",
      "source": [
        "#4 Write a Python script that reads from one file and writes its content to another file.\n",
        "def copy_file(source_file, destination_file):\n",
        "    try:\n",
        "        with open(source_file, \"r\") as infile, open(destination_file, \"w\") as outfile:\n",
        "            for line in infile:\n",
        "                outfile.write(line)\n",
        "        print(f\"Contents of '{source_file}' copied to '{destination_file}'\")\n",
        "    except FileNotFoundError:\n",
        "        print(f\"Error: Source file '{source_file}' not found.\")\n",
        "    except Exception as e:\n",
        "        print(f\"An error occurred: {e}\")\n",
        "\n",
        "# Example usage:\n",
        "copy_file(\"source.txt\", \"destination.txt\")"
      ],
      "metadata": {
        "id": "n5SFTnkaJgIy"
      },
      "execution_count": null,
      "outputs": []
    },
    {
      "cell_type": "code",
      "source": [
        "#5 How would you catch and handle division by zero error in Python\n",
        "def divide(a, b):\n",
        "    try:\n",
        "        result = a / b\n",
        "        return result\n",
        "    except ZeroDivisionError:\n",
        "        print(\"Error: Cannot divide by zero.\")\n",
        "        return None  # Or some other appropriate return value\n",
        "\n",
        "numerator = 10\n",
        "denominator = 0\n",
        "quotient = divide(numerator, denominator)\n",
        "print(f\"The result of the division is: {quotient}\")\n",
        "\n",
        "denominator = 2\n",
        "quotient = divide(numerator, denominator)\n",
        "print(f\"The result of the division is: {quotient}\")"
      ],
      "metadata": {
        "id": "REkCQHcQJgGQ"
      },
      "execution_count": null,
      "outputs": []
    },
    {
      "cell_type": "code",
      "source": [
        "#6.Write a Python program that logs an error message to a log file when a division by zero exception occurs.\n",
        "import logging\n",
        "\n",
        "# Configure logging to write to a file\n",
        "logging.basicConfig(filename='division_errors.log', level=logging.ERROR,\n",
        "                    format='%(asctime)s - %(levelname)s - %(message)s')\n",
        "\n",
        "def safe_divide(a, b):\n",
        "    try:\n",
        "        result = a / b\n",
        "        return result\n",
        "    except ZeroDivisionError:\n",
        "        logging.error(f\"Attempted division by zero with numerator={a} and denominator={b}\")\n",
        "        return None\n",
        "\n",
        "numerator = 5\n",
        "denominator = 0\n",
        "safe_divide(numerator, denominator)\n",
        "\n",
        "denominator = 2\n",
        "safe_divide(numerator, denominator)\n",
        "\n",
        "print(\"Check 'division_errors.log' for error messages.\")"
      ],
      "metadata": {
        "id": "kxS5vIL-JgDf"
      },
      "execution_count": null,
      "outputs": []
    },
    {
      "cell_type": "code",
      "source": [
        "#7.How do you log information at different levels (INFO, ERROR, WARNING) in Python using the logging module\n",
        "import logging\n",
        "\n",
        "# Configure basic logging to the console\n",
        "logging.basicConfig(level=logging.INFO, format='%(asctime)s - %(levelname)s - %(message)s')\n",
        "\n",
        "logging.info(\"This is an informational message.\")\n",
        "logging.warning(\"This is a warning message.\")\n",
        "logging.error(\"This is an error message.\")\n",
        "logging.debug(\"This is a debug message (will not be shown with level=INFO).\")\n",
        "logging.critical(\"This is a critical error message.\")"
      ],
      "metadata": {
        "id": "R6APBZoqJgA7"
      },
      "execution_count": null,
      "outputs": []
    },
    {
      "cell_type": "code",
      "source": [
        "#8.Write a program to handle a file opening error using exception handling\n",
        "try:\n",
        "    with open(\"unknown_file.txt\", \"r\") as file:\n",
        "        content = file.read()\n",
        "        print(content)\n",
        "except FileNotFoundError:\n",
        "    print(\"Error: The file 'unknown_file.txt' could not be found.\")\n",
        "except PermissionError:\n",
        "    print(\"Error: Permission denied to open 'unknown_file.txt'.\")\n",
        "except Exception as e:\n",
        "    print(f\"An unexpected error occurred while opening the file: {e}\")"
      ],
      "metadata": {
        "id": "WmQF4lsWJf-X"
      },
      "execution_count": null,
      "outputs": []
    },
    {
      "cell_type": "code",
      "source": [
        "#9.How can you read a file line by line and store its content in a list in Python\n",
        "def file_to_list(filename):\n",
        "    try:\n",
        "        with open(filename, \"r\") as file:\n",
        "            lines = file.readlines()\n",
        "        return lines\n",
        "    except FileNotFoundError:\n",
        "        print(f\"Error: File '{filename}' not found.\")\n",
        "        return []\n",
        "    except Exception as e:\n",
        "        print(f\"An error occurred: {e}\")\n",
        "        return []\n",
        "\n",
        "file_content = file_to_list(\"my_file.txt\")\n",
        "if file_content:\n",
        "    print(\"File content as a list:\", file_content)"
      ],
      "metadata": {
        "id": "nBD3C1oQJf7v"
      },
      "execution_count": null,
      "outputs": []
    },
    {
      "cell_type": "code",
      "source": [
        "#10.How can you append data to an existing file in Python\n",
        "try:\n",
        "    with open(\"existing_file.txt\", \"a\") as file:\n",
        "        new_data = \"\\nThis line is appended.\"\n",
        "        file.write(new_data)\n",
        "    print(\"Data appended to 'existing_file.txt'\")\n",
        "except Exception as e:\n",
        "    print(f\"An error occurred: {e}\")"
      ],
      "metadata": {
        "id": "BLZKu2pUJf5P"
      },
      "execution_count": null,
      "outputs": []
    },
    {
      "cell_type": "code",
      "source": [
        "#11Write a Python program that uses a try-except block to handle an error when attempting to access a\n",
        "#dictionary key that doesn't exist\n",
        "my_dict = {\"a\": 1, \"b\": 2, \"c\": 3}\n",
        "key_to_access = \"d\"\n",
        "\n",
        "try:\n",
        "    value = my_dict[key_to_access]\n",
        "    print(f\"The value for key '{key_to_access}' is: {value}\")\n",
        "except KeyError:\n",
        "    print(f\"Error: The key '{key_to_access}' does not exist in the dictionary.\")\n",
        "except Exception as e:\n",
        "    print(f\"An unexpected error occurred: {e}\")"
      ],
      "metadata": {
        "id": "4HJySHi-Jf2-"
      },
      "execution_count": null,
      "outputs": []
    },
    {
      "cell_type": "code",
      "source": [
        "#12Write a program that demonstrates using multiple except blocks to handle different types of exceptions\n",
        "def process_list(data):\n",
        "    try:\n",
        "        result = 10 / len(data)\n",
        "        print(f\"Result of division: {result}\")\n",
        "        print(f\"First element: {data[0]}\")\n",
        "    except ZeroDivisionError:\n",
        "        print(\"Error: Cannot divide by zero because the list is empty.\")\n",
        "    except TypeError:\n",
        "        print(\"Error: Input data must be a list.\")\n",
        "    except IndexError:\n",
        "        print(\"Error: Cannot access the first element of an empty list.\")\n",
        "    except Exception as e:\n",
        "        print(f\"An unexpected error occurred: {e}\")\n",
        "\n",
        "process_list([1, 2, 3])\n",
        "process_list([])\n",
        "process_list(None)"
      ],
      "metadata": {
        "id": "cZw2LS27Jf0e"
      },
      "execution_count": null,
      "outputs": []
    },
    {
      "cell_type": "code",
      "source": [
        "#13.How would you check if a file exists before attempting to read it in Python\n",
        "import os\n",
        "\n",
        "filename = \"data.txt\"\n",
        "\n",
        "if os.path.exists(filename):\n",
        "    try:\n",
        "        with open(filename, \"r\") as file:\n",
        "            content = file.read()\n",
        "            print(\"File content:\", content)\n",
        "    except Exception as e:\n",
        "        print(f\"An error occurred while reading the file: {e}\")\n",
        "else:\n",
        "    print(f\"Error: The file '{filename}' does not exist.\")"
      ],
      "metadata": {
        "id": "u-tyR6DkJfyT"
      },
      "execution_count": null,
      "outputs": []
    },
    {
      "cell_type": "code",
      "source": [
        "#14Write a program that uses the logging module to log both informational and error messages\n",
        "import logging\n",
        "\n",
        "# Configure logging to write to a file and also show on the console\n",
        "logging.basicConfig(\n",
        "    level=logging.INFO,\n",
        "    format='%(asctime)s - %(levelname)s - %(message)s',\n",
        "    handlers=[\n",
        "        logging.FileHandler('app.log'),\n",
        "        logging.StreamHandler()  # Outputs to the console\n",
        "    ]\n",
        ")\n",
        "\n",
        "def process_data(value):\n",
        "    logging.info(f\"Processing value: {value}\")\n",
        "    try:\n",
        "        result = 100 / value\n",
        "        logging.info(f\"Result of division: {result}\")\n",
        "        return result\n",
        "    except ZeroDivisionError:\n",
        "        logging.error(f\"Attempted division by zero with value: {value}\")\n",
        "        return None\n",
        "    except TypeError:\n",
        "        logging.error(f\"Invalid data type for division: {type(value)}\")\n",
        "        return None\n",
        "\n",
        "process_data(10)\n",
        "process_data(0)\n",
        "process_data(\"abc\")"
      ],
      "metadata": {
        "id": "ztLlTI2kJft7"
      },
      "execution_count": null,
      "outputs": []
    },
    {
      "cell_type": "code",
      "source": [
        "#15Write a Python program that prints the content of a file and handles the case when the file is empty\n",
        "def print_file_content(filename):\n",
        "    try:\n",
        "        with open(filename, \"r\") as file:\n",
        "            content = file.read()\n",
        "            if not content:\n",
        "                print(f\"The file '{filename}' is empty.\")\n",
        "            else:\n",
        "                print(\"File content:\")\n",
        "                print(content)\n",
        "    except FileNotFoundError:\n",
        "        print(f\"Error: File '{filename}' not found.\")\n",
        "    except Exception as e:\n",
        "        print(f\"An error occurred: {e}\")\n",
        "\n",
        "# Create an empty file for testing\n",
        "with open(\"empty_file.txt\", \"w\") as f:\n",
        "    pass\n",
        "\n",
        "print_file_content(\"my_file.txt\")  # Assuming my_file.txt has some content\n",
        "print_file_content(\"empty_file.txt\")\n",
        "print_file_content(\"non_existent.txt\")"
      ],
      "metadata": {
        "id": "8E_Eh_F_JfrI"
      },
      "execution_count": null,
      "outputs": []
    },
    {
      "cell_type": "code",
      "source": [
        "#16Demonstrate how to use memory profiling to check the memory usage of a small program\n",
        "@profile\n",
        "def my_function():\n",
        "    my_list = [i for i in range(1000000)]\n",
        "    squared_list = [x**2 for x in my_list]\n",
        "    del squared_list\n",
        "    return my_list[0]\n",
        "\n",
        "if __name__ == \"__main__\":\n",
        "    result = my_function()\n",
        "    print(f\"Result: {result}\")"
      ],
      "metadata": {
        "id": "lBG1wmxuJfoe"
      },
      "execution_count": null,
      "outputs": []
    },
    {
      "cell_type": "code",
      "source": [
        "#17Write a Python program to create and write a list of numbers to a file, one number per line\n",
        "def write_numbers_to_file(filename, numbers):\n",
        "    try:\n",
        "        with open(filename, \"w\") as file:\n",
        "            for number in numbers:\n",
        "                file.write(str(number) + \"\\n\")\n",
        "        print(f\"List of numbers written to '{filename}'\")\n",
        "    except Exception as e:\n",
        "        print(f\"An error occurred: {e}\")\n",
        "\n",
        "numbers_to_write = [10, 25, 5, 100, 50]\n",
        "write_numbers_to_file(\"numbers.txt\", numbers_to_write)"
      ],
      "metadata": {
        "id": "MdEFr0ncJfl0"
      },
      "execution_count": null,
      "outputs": []
    },
    {
      "cell_type": "code",
      "source": [
        "#18 How would you implement a basic logging setup that logs to a file with rotation after 1MB\n",
        "import logging\n",
        "from logging.handlers import RotatingFileHandler\n",
        "\n",
        "# Configure logging with rotation\n",
        "log_formatter = logging.Formatter('%(asctime)s - %(levelname)s - %(message)s')\n",
        "log_handler = RotatingFileHandler('app.log', maxBytes=1*1024*1024, backupCount=5) # 1MB max, keep 5 backups\n",
        "log_handler.setFormatter(log_formatter)\n",
        "\n",
        "logger = logging.getLogger(__name__)\n",
        "logger.setLevel(logging.INFO)\n",
        "logger.addHandler(log_handler)\n",
        "\n",
        "# Example logging\n",
        "logger.info(\"This is the first log message.\")\n",
        "for i in range(20000): # Generate enough logs to trigger rotation\n",
        "    logger.info(f\"Logging message number: {i}\")\n",
        "logger.error(\"This is an error message.\")"
      ],
      "metadata": {
        "id": "zXtUTIyiJfjV"
      },
      "execution_count": null,
      "outputs": []
    },
    {
      "cell_type": "code",
      "source": [
        "#19 Write a program that handles both IndexError and KeyError using a try-except block.\n",
        "my_list = [10, 20, 30]\n",
        "my_dict = {\"a\": 1, \"b\": 2}\n",
        "\n",
        "def access_data(data_structure, index_or_key):\n",
        "    try:\n",
        "        if isinstance(data_structure, list):\n",
        "            value = data_structure[index_or_key]\n",
        "            print(f\"Value at index {index_or_key}: {value}\")\n",
        "        elif isinstance(data_structure, dict):\n",
        "            value = data_structure[index_or_key]\n",
        "            print(f\"Value for key '{index_or_key}': {value}\")\n",
        "        else:\n",
        "            print(\"Unsupported data structure.\")\n",
        "    except IndexError:\n",
        "        print(f\"Error: Index {index_or_key} is"
      ],
      "metadata": {
        "id": "2F9MBnrMJfgk"
      },
      "execution_count": null,
      "outputs": []
    },
    {
      "cell_type": "code",
      "source": [
        "#20.How would you open a file and read its contents using a context manager in Python.\n",
        "try:\n",
        "    with open(\"my_file.txt\", \"r\") as file:\n",
        "        content = file.read()\n",
        "        print(\"File content:\")\n",
        "        print(content)\n",
        "except FileNotFoundError:\n",
        "    print(\"Error: The file 'my_file.txt' was not found.\")\n",
        "except Exception as e:\n",
        "    print(f\"An error occurred: {e}\")"
      ],
      "metadata": {
        "id": "gBZfvLLhJ1xh"
      },
      "execution_count": null,
      "outputs": []
    },
    {
      "cell_type": "code",
      "source": [
        "#21. Write a Python program that reads a file and prints the number of occurrences of a specific word\n",
        "def count_word_occurrences(filename, word):\n",
        "    try:\n",
        "        with open(filename, \"r\") as file:\n",
        "            content = file.read().lower()  # Read content and convert to lowercase\n",
        "            word = word.lower()  # Convert the target word to lowercase\n",
        "            count = content.count(word)\n",
        "            print(f\"The word '{word}' appears {count} times in '{filename}'.\")\n",
        "    except FileNotFoundError:\n",
        "        print(f\"Error: The file '{filename}' was not found.\")\n",
        "    except Exception as e:\n",
        "        print(f\"An error occurred: {e}\")\n",
        "\n",
        "# Example usage:\n",
        "count_word_occurrences(\"sample.txt\", \"the\")"
      ],
      "metadata": {
        "id": "xuFvNf64J1vD"
      },
      "execution_count": null,
      "outputs": []
    },
    {
      "cell_type": "code",
      "source": [
        "#22.How can you check if a file is empty before attempting to read its contents\n",
        "import os\n",
        "\n",
        "filename = \"my_file.txt\"\n",
        "\n",
        "if os.path.exists(filename):\n",
        "    if os.path.getsize(filename) == 0:\n",
        "        print(f\"The file '{filename}' is empty.\")\n",
        "    else:\n",
        "        try:\n",
        "            with open(filename, \"r\") as file:\n",
        "                content = file.read()\n",
        "                print(\"File content:\")\n",
        "                print(content)\n",
        "        except Exception as e:\n",
        "            print(f\"An error occurred while reading the file: {e}\")\n",
        "else:\n",
        "    print(f\"Error: The file '{filename}' does not exist.\")"
      ],
      "metadata": {
        "id": "cd_mLogXK2zZ"
      },
      "execution_count": null,
      "outputs": []
    },
    {
      "cell_type": "code",
      "source": [
        "#23 Write a Python program that writes to a log file when an error occurs during file handling.\n",
        "import logging\n",
        "\n",
        "# Configure logging to write to a file\n",
        "logging.basicConfig(filename='file_handling_errors.log', level=logging.ERROR,\n",
        "                    format='%(asctime)s - %(levelname)s - %(message)s')\n",
        "\n",
        "def process_file(filename):\n",
        "    try:\n",
        "        with open(filename, \"r\") as file:\n",
        "            content = file.read()\n",
        "            print(\"File content:\", content)\n",
        "    except FileNotFoundError:\n",
        "        logging.error(f\"File not found: {filename}\")\n",
        "        print(f\"Error: The file '{filename}' was not found.\")\n",
        "    except PermissionError:\n",
        "        logging.error(f\"Permission denied to open: {filename}\")\n",
        "        print(f\"Error: Permission denied to open '{filename}'.\")\n",
        "    except Exception as e:\n",
        "        logging.error(f\"An unexpected error occurred with file '{filename}': {e}\")\n",
        "        print(f\"An unexpected error occurred: {e}\")\n",
        "\n",
        "# Example usage:\n",
        "process_file(\"non_existent_file.txt\")\n",
        "process_file(\"/root/protected_file.txt\") # Might cause a PermissionError\n",
        "process_file(\"my_file.txt\") # Assuming this file exists and is readable"
      ],
      "metadata": {
        "id": "lPDm7QiaK2o6"
      },
      "execution_count": null,
      "outputs": []
    }
  ]
}