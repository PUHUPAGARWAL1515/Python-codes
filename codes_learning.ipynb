{
  "nbformat": 4,
  "nbformat_minor": 0,
  "metadata": {
    "colab": {
      "provenance": [],
      "authorship_tag": "ABX9TyPzaRb9D6g0kLQ8sBHrYC09",
      "include_colab_link": true
    },
    "kernelspec": {
      "name": "python3",
      "display_name": "Python 3"
    },
    "language_info": {
      "name": "python"
    }
  },
  "cells": [
    {
      "cell_type": "markdown",
      "metadata": {
        "id": "view-in-github",
        "colab_type": "text"
      },
      "source": [
        "<a href=\"https://colab.research.google.com/github/PUHUPAGARWAL1515/Python-codes/blob/main/codes_learning.ipynb\" target=\"_parent\"><img src=\"https://colab.research.google.com/assets/colab-badge.svg\" alt=\"Open In Colab\"/></a>"
      ]
    },
    {
      "cell_type": "code",
      "execution_count": null,
      "metadata": {
        "id": "3cO4NzPdfLfZ"
      },
      "outputs": [],
      "source": [
        "# 1.Given an array of integers nums and an integer target, return indices of the two numbers such that they add up to target.\n",
        "\n",
        "# You may assume that each input would have exactly one solution, and you may not use the same element twice.\n",
        "\n",
        "# You can return the answer in any order.\n",
        "\n",
        "\n",
        "\n",
        "# Example 1:\n",
        "\n",
        "# Input: nums = [2,7,11,15], target = 9\n",
        "# Output: [0,1]\n",
        "# Explanation: Because nums[0] + nums[1] == 9, we return [0, 1].\n",
        "# Example 2:\n",
        "\n",
        "# Input: nums = [3,2,4], target = 6\n",
        "# Output: [1,2]\n",
        "# Example 3:\n",
        "\n",
        "# Input: nums = [3,3], target = 6\n",
        "# Output: [0,1]\n",
        "\n",
        "\n",
        "\n",
        "\n",
        "\n",
        "\n",
        "import collections\n",
        "from typing import List # Important for type hints if you use them\n",
        "\n",
        "class Solution:\n",
        "    def twoSum(self, nums: List[int], target: int) -> List[int]:\n",
        "        \"\"\"\n",
        "        Given an array of integers nums and an integer target, return indices of the two numbers such that they add up to target.\n",
        "        \"\"\"\n",
        "        num_map = {} # Or collections.defaultdict(int)\n",
        "\n",
        "        for i, num in enumerate(nums):\n",
        "            complement = target - num\n",
        "\n",
        "            if complement in num_map:\n",
        "                return [num_map[complement], i]\n",
        "\n",
        "            num_map[num] = i\n",
        "\n",
        "        # This part should theoretically not be reached if a solution is guaranteed\n",
        "        return []\n",
        "\n",
        "# --- How to test it locally ---\n",
        "if __name__ == \"__main__\":\n",
        "    # Create an instance of the Solution class\n",
        "    solver = Solution()\n",
        "\n",
        "    # Test case 1\n",
        "    nums1 = [2, 7, 11, 15]\n",
        "    target1 = 9\n",
        "    result1 = solver.twoSum(nums1, target1)\n",
        "    print(f\"Nums: {nums1}, Target: {target1} -> Result: {result1}\") # Expected: [0, 1]\n",
        "\n",
        "    # Test case 2\n",
        "    nums2 = [3, 2, 4]\n",
        "    target2 = 6\n",
        "    result2 = solver.twoSum(nums2, target2)\n",
        "    print(f\"Nums: {nums2}, Target: {target2} -> Result: {result2}\") # Expected: [1, 2] or [2, 1]\n",
        "\n",
        "    # Test case 3\n",
        "    nums3 = [3, 3]\n",
        "    target3 = 6\n",
        "    result3 = solver.twoSum(nums3, target3)\n",
        "    print(f\"Nums: {nums3}, Target: {target3} -> Result: {result3}\") # Expected: [0, 1]"
      ]
    },
    {
      "cell_type": "code",
      "source": [
        "#2. Given an integer x, return true if x is a palindrome, and false otherwise.\n",
        "\n",
        "\n",
        "\n",
        "# Example 1:\n",
        "\n",
        "# Input: x = 121\n",
        "# Output: true\n",
        "# Explanation: 121 reads as 121 from left to right and from right to left.\n",
        "# Example 2:\n",
        "\n",
        "# Input: x = -121\n",
        "# Output: false\n",
        "# Explanation: From left to right, it reads -121. From right to left, it becomes 121-. Therefore it is not a palindrome.\n",
        "# Example 3:\n",
        "\n",
        "# Input: x = 10\n",
        "# Output: false\n",
        "# Explanation: Reads 01 from right to left. Therefore it is not a palindrome.\n",
        "\n",
        "\n",
        "\n",
        "\n",
        "\n",
        "\n",
        "class Solution:\n",
        "    def isPalindrome(self, x: int) -> bool:\n",
        "        # Handle edge cases\n",
        "\n",
        "        # 1. Negative numbers are not palindromes.\n",
        "        if x < 0:\n",
        "            return False\n",
        "\n",
        "        # 2. Numbers ending in 0 (except 0 itself) are not palindromes.\n",
        "        #    For example, 10, 120. If a number ends with 0, its first digit\n",
        "        #    must also be 0 for it to be a palindrome. But only 0 has a leading 0.\n",
        "        if x % 10 == 0 and x != 0:\n",
        "            return False\n",
        "\n",
        "        reverted_number = 0\n",
        "        original_x = x # Keep original for a sanity check if needed, though not strictly required here\n",
        "\n",
        "        # Loop until we have processed about half the digits.\n",
        "        # We stop when x becomes less than or equal to reverted_number.\n",
        "        # At this point, either x has an even number of digits (x == reverted_number)\n",
        "        # or an odd number of digits (x < reverted_number).\n",
        "        while x > reverted_number:\n",
        "            last_digit = x % 10\n",
        "            reverted_number = reverted_number * 10 + last_digit\n",
        "            x = x // 10 # Integer division to remove the last digit\n",
        "\n",
        "        # After the loop, we compare x with reverted_number.\n",
        "        # Case 1: The number has an even number of digits.\n",
        "        #         Example: 1221. Loop ends when x = 12, reverted_number = 12.\n",
        "        #         They should be equal.\n",
        "        # Case 2: The number has an odd number of digits.\n",
        "        #         Example: 121. Loop ends when x = 1, reverted_number = 12.\n",
        "        #         In this case, the middle digit (2) is in reverted_number.\n",
        "        #         We remove the middle digit from reverted_number by dividing by 10.\n",
        "        #         Then compare x (1) with reverted_number // 10 (1).\n",
        "        return x == reverted_number or x == reverted_number // 10"
      ],
      "metadata": {
        "id": "JQA8CQMjfObc"
      },
      "execution_count": null,
      "outputs": []
    },
    {
      "cell_type": "code",
      "source": [],
      "metadata": {
        "id": "zADCU62nfOYv"
      },
      "execution_count": null,
      "outputs": []
    },
    {
      "cell_type": "code",
      "source": [],
      "metadata": {
        "id": "EEdYth0cfOVu"
      },
      "execution_count": null,
      "outputs": []
    },
    {
      "cell_type": "code",
      "source": [],
      "metadata": {
        "id": "yEKP4EmufOTG"
      },
      "execution_count": null,
      "outputs": []
    },
    {
      "cell_type": "code",
      "source": [],
      "metadata": {
        "id": "pjKNa-OsfOQn"
      },
      "execution_count": null,
      "outputs": []
    },
    {
      "cell_type": "code",
      "source": [],
      "metadata": {
        "id": "mQlS8kn4fOOI"
      },
      "execution_count": null,
      "outputs": []
    },
    {
      "cell_type": "code",
      "source": [],
      "metadata": {
        "id": "Y05_lIczfOLn"
      },
      "execution_count": null,
      "outputs": []
    },
    {
      "cell_type": "code",
      "source": [],
      "metadata": {
        "id": "maImxFyFfOJI"
      },
      "execution_count": null,
      "outputs": []
    },
    {
      "cell_type": "code",
      "source": [],
      "metadata": {
        "id": "6i5Hc32efOGn"
      },
      "execution_count": null,
      "outputs": []
    },
    {
      "cell_type": "code",
      "source": [],
      "metadata": {
        "id": "QkXK8W23fOEH"
      },
      "execution_count": null,
      "outputs": []
    },
    {
      "cell_type": "code",
      "source": [],
      "metadata": {
        "id": "JFg780WCfOBm"
      },
      "execution_count": null,
      "outputs": []
    },
    {
      "cell_type": "code",
      "source": [],
      "metadata": {
        "id": "XXX8lYa1fN_H"
      },
      "execution_count": null,
      "outputs": []
    },
    {
      "cell_type": "code",
      "source": [],
      "metadata": {
        "id": "JwfyR22ufN8X"
      },
      "execution_count": null,
      "outputs": []
    },
    {
      "cell_type": "code",
      "source": [],
      "metadata": {
        "id": "Lg8BMQTjfN5z"
      },
      "execution_count": null,
      "outputs": []
    }
  ]
}