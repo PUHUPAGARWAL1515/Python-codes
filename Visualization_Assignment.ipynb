{
  "nbformat": 4,
  "nbformat_minor": 0,
  "metadata": {
    "colab": {
      "provenance": [],
      "authorship_tag": "ABX9TyNiPDuRUFJeEAEBuFLn9w83",
      "include_colab_link": true
    },
    "kernelspec": {
      "name": "python3",
      "display_name": "Python 3"
    },
    "language_info": {
      "name": "python"
    }
  },
  "cells": [
    {
      "cell_type": "markdown",
      "metadata": {
        "id": "view-in-github",
        "colab_type": "text"
      },
      "source": [
        "<a href=\"https://colab.research.google.com/github/PUHUPAGARWAL1515/Python-codes/blob/main/Visualization_Assignment.ipynb\" target=\"_parent\"><img src=\"https://colab.research.google.com/assets/colab-badge.svg\" alt=\"Open In Colab\"/></a>"
      ]
    },
    {
      "cell_type": "code",
      "execution_count": null,
      "metadata": {
        "id": "hRGunmTR8FDv"
      },
      "outputs": [],
      "source": [
        "#MATPLOTLIB ASSIGNMENT"
      ]
    },
    {
      "cell_type": "code",
      "source": [
        "#1.\n",
        "import matplotlib.pyplot as plt\n",
        "\n",
        "x = [1, 2, 3, 4, 5, 6, 7, 8, 9, 10]\n",
        "y = [2, 4, 5, 7, 6, 8, 9, 10, 12, 13]\n",
        "\n",
        "plt.scatter(x, y)\n",
        "plt.xlabel(\"X-axis\")\n",
        "plt.ylabel(\"Y-axis\")\n",
        "plt.title(\"Scatter Plot of X vs Y\")\n",
        "plt.show()"
      ],
      "metadata": {
        "id": "cvCy6mj98fXu"
      },
      "execution_count": null,
      "outputs": []
    },
    {
      "cell_type": "code",
      "source": [
        "#2.\n",
        "import matplotlib.pyplot as plt\n",
        "import numpy as np\n",
        "\n",
        "data = np.array([3, 7, 9, 15, 22, 29, 35])\n",
        "\n",
        "plt.plot(data)\n",
        "plt.xlabel(\"Index\")\n",
        "plt.ylabel(\"Values\")\n",
        "plt.title(\"Line Plot of Data Trend\")\n",
        "plt.show()"
      ],
      "metadata": {
        "id": "s71lel-v8fVd"
      },
      "execution_count": null,
      "outputs": []
    },
    {
      "cell_type": "code",
      "source": [
        "#3.\n",
        "import matplotlib.pyplot as plt\n",
        "\n",
        "categories = ['A', 'B', 'C', 'D', 'E']\n",
        "values = [25, 40, 30, 35, 20]\n",
        "\n",
        "plt.bar(categories, values)\n",
        "plt.xlabel(\"Categories\")\n",
        "plt.ylabel(\"Values\")\n",
        "plt.title(\"Bar Chart of Categories and Values\")\n",
        "plt.show()"
      ],
      "metadata": {
        "id": "GAubW1Ly8fTJ"
      },
      "execution_count": null,
      "outputs": []
    },
    {
      "cell_type": "code",
      "source": [
        "#4.\n",
        "import matplotlib.pyplot as plt\n",
        "import numpy as np\n",
        "\n",
        "data = np.random.normal(0, 1, 1000)\n",
        "\n",
        "plt.hist(data, bins=30, edgecolor='black')  # You can adjust the number of bins\n",
        "plt.xlabel(\"Values\")\n",
        "plt.ylabel(\"Frequency\")\n",
        "plt.title(\"Histogram of Normal Distribution\")\n",
        "plt.show()"
      ],
      "metadata": {
        "id": "Jb1Jxg7z8fQu"
      },
      "execution_count": null,
      "outputs": []
    },
    {
      "cell_type": "code",
      "source": [
        "#5.\n",
        "import matplotlib.pyplot as plt\n",
        "\n",
        "sections = ['Section A', 'Section B', 'Section C', 'Section D']\n",
        "sizes = [25, 30, 15, 30]\n",
        "\n",
        "plt.pie(sizes, labels=sections, autopct='%1.1f%%', startangle=90)\n",
        "plt.title('Percentage Distribution of Sections')\n",
        "plt.axis('equal')  # Equal aspect ratio ensures that pie is drawn as a circle.\n",
        "plt.show()"
      ],
      "metadata": {
        "id": "uZLYqvbI8fOU"
      },
      "execution_count": null,
      "outputs": []
    },
    {
      "cell_type": "code",
      "source": [
        "#SEABORN ASSIGNMENT"
      ],
      "metadata": {
        "id": "2vLbWzxO-LKe"
      },
      "execution_count": null,
      "outputs": []
    },
    {
      "cell_type": "code",
      "source": [
        "#1.Create a scatter plot to visualize the relationship between two variables, by generating a synthetic dataset.\n",
        "import seaborn as sns\n",
        "import matplotlib.pyplot as plt\n",
        "import numpy as np\n",
        "import pandas as pd\n",
        "\n",
        "# Generate synthetic dataset\n",
        "np.random.seed(42)  # For reproducibility\n",
        "x = np.random.rand(50) * 10\n",
        "y = 2 * x + np.random.randn(50) * 5  # Add some noise\n",
        "\n",
        "data = pd.DataFrame({'X': x, 'Y': y})\n",
        "\n",
        "# Create scatter plot\n",
        "sns.scatterplot(x='X', y='Y', data=data)\n",
        "plt.title('Scatter Plot of X vs Y')\n",
        "plt.show()"
      ],
      "metadata": {
        "id": "nYouPWX--LG2"
      },
      "execution_count": null,
      "outputs": []
    },
    {
      "cell_type": "code",
      "source": [
        "#2.Generate a dataset of random numbers. Visualize the distribution of a numerical variable.\n",
        "import seaborn as sns\n",
        "import matplotlib.pyplot as plt\n",
        "import numpy as np\n",
        "import pandas as pd\n",
        "\n",
        "# Generate random data\n",
        "data = pd.DataFrame({'Values': np.random.randn(1000)})\n",
        "\n",
        "# Visualize distribution using a histogram\n",
        "sns.histplot(data['Values'], kde=True) # kde adds a density estimate\n",
        "plt.title('Distribution of Random Numbers')\n",
        "plt.show()"
      ],
      "metadata": {
        "id": "5kP0T4n0-LEP"
      },
      "execution_count": null,
      "outputs": []
    },
    {
      "cell_type": "code",
      "source": [
        "#3.Create a dataset representing categories and their corresponding values. Compare different categories based on numerical values\n",
        "import seaborn as sns\n",
        "import matplotlib.pyplot as plt\n",
        "import pandas as pd\n",
        "\n",
        "# Create category dataset\n",
        "data = pd.DataFrame({\n",
        "    'Category': ['A', 'B', 'C', 'D', 'E'],\n",
        "    'Value': [25, 40, 30, 35, 20]\n",
        "})\n",
        "\n",
        "# Create a bar plot\n",
        "sns.barplot(x='Category', y='Value', data=data)\n",
        "plt.title('Comparison of Categories by Value')\n",
        "plt.show()"
      ],
      "metadata": {
        "id": "qQCacNVg-LA_"
      },
      "execution_count": null,
      "outputs": []
    },
    {
      "cell_type": "code",
      "source": [
        "#4. Generate a dataset with categories and numerical values. Visualize the distribution of a numerical\n",
        "#variable across different categories.\n",
        "import seaborn as sns\n",
        "import matplotlib.pyplot as plt\n",
        "import pandas as pd\n",
        "import numpy as np\n",
        "\n",
        "# Create dataset with categories and numerical values\n",
        "np.random.seed(42)\n",
        "data = pd.DataFrame({\n",
        "    'Category': np.random.choice(['X', 'Y', 'Z'], 100),\n",
        "    'Value': np.random.randn(100)\n",
        "})\n",
        "\n",
        "# Create boxplot to visualize distribution across categories\n",
        "sns.boxplot(x='Category', y='Value', data=data)\n",
        "plt.title('Distribution of Value Across Categories')\n",
        "plt.show()"
      ],
      "metadata": {
        "id": "PU_FZ_qa-K-T"
      },
      "execution_count": null,
      "outputs": []
    },
    {
      "cell_type": "code",
      "source": [
        "#5.Generate a synthetic dataset with correlated features. Visualize the correlation matrix of a dataset using a\n",
        "#heatmap.\n",
        "import seaborn as sns\n",
        "import matplotlib.pyplot as plt\n",
        "import numpy as np\n",
        "import pandas as pd\n",
        "\n",
        "# Generate correlated dataset\n",
        "np.random.seed(42)\n",
        "num_samples = 100\n",
        "feature1 = np.random.randn(num_samples)\n",
        "feature2 = feature1 + np.random.randn(num_samples) * 0.5\n",
        "feature3 = feature1 + feature2 + np.random.randn(num_samples) * 0.2\n",
        "\n",
        "data = pd.DataFrame({'Feature1': feature1, 'Feature2': feature2, 'Feature3': feature3})\n",
        "\n",
        "# Visualize correlation matrix using a heatmap\n",
        "correlation_matrix = data.corr()\n",
        "sns.heatmap(correlation_matrix, annot=True, cmap='coolwarm')\n",
        "plt.title('Correlation Matrix')\n",
        "plt.show()"
      ],
      "metadata": {
        "id": "U5N2bgho-K7w"
      },
      "execution_count": null,
      "outputs": []
    },
    {
      "cell_type": "code",
      "source": [
        "#PLOTLY ASSIGNMENT"
      ],
      "metadata": {
        "id": "_UY0TY9J-K5F"
      },
      "execution_count": null,
      "outputs": []
    },
    {
      "cell_type": "code",
      "source": [
        "#1.\n",
        "import plotly.graph_objects as go\n",
        "import numpy as np\n",
        "import pandas as pd\n",
        "\n",
        "# Generate the dataset\n",
        "np.random.seed(30)\n",
        "data = {\n",
        "    'X': np.random.uniform(-10, 10, 300),\n",
        "    'Y': np.random.uniform(-10, 10, 300),\n",
        "    'Z': np.random.uniform(-10, 10, 300)\n",
        "}\n",
        "df = pd.DataFrame(data)\n",
        "\n",
        "# Create the 3D scatter plot\n",
        "fig = go.Figure(data=[go.Scatter3d(\n",
        "    x=df['X'],\n",
        "    y=df['Y'],\n",
        "    z=df['Z'],\n",
        "    mode='markers',\n",
        "    marker=dict(\n",
        "        size=4,\n",
        "        color=df['Z'],  # Color points based on the Z value\n",
        "        colorscale='Viridis',  # Choose a colorscale\n",
        "        opacity=0.8\n",
        "    )\n",
        ")])\n",
        "\n",
        "# Update layout for better visualization\n",
        "fig.update_layout(\n",
        "    margin=dict(l=0, r=0, b=0, t=0),  # Remove margins\n",
        "    scene=dict(\n",
        "        xaxis=dict(title='X'),\n",
        "        yaxis=dict(title='Y'),\n",
        "        zaxis=dict(title='Z')\n",
        "    )\n",
        ")\n",
        "\n",
        "# Show the plot\n",
        "fig.show()"
      ],
      "metadata": {
        "id": "Wo8PZnhC91ce"
      },
      "execution_count": null,
      "outputs": []
    },
    {
      "cell_type": "code",
      "source": [
        "#2.import plotly.graph_objects as go\n",
        "import numpy as np\n",
        "import pandas as pd\n",
        "\n",
        "# Generate the data\n",
        "np.random.seed(15)\n",
        "data = {\n",
        "    'Grade': np.random.choice(['A', 'B', 'C', 'D', 'F'], 200),\n",
        "    'Score': np.random.randint(50, 100, 200)\n",
        "}\n",
        "df = pd.DataFrame(data)\n",
        "\n",
        "# Create the violin plot\n",
        "fig = go.Figure(data=go.Violin(\n",
        "    x=df['Grade'],\n",
        "    y=df['Score'],\n",
        "    box_visible=True,  # Show box plot inside violin\n",
        "    meanline_visible=True,  # Show mean line\n",
        "    points='all'  # Show all data points\n",
        "))\n",
        "\n",
        "# Update layout for better visualization\n",
        "fig.update_layout(\n",
        "    title='Distribution of Scores Across Grade Categories',\n",
        "    xaxis_title='Grade',\n",
        "    yaxis_title='Score'\n",
        ")\n",
        "\n",
        "# Show the plot\n",
        "fig.show()"
      ],
      "metadata": {
        "id": "I2jnfkn591aA"
      },
      "execution_count": null,
      "outputs": []
    },
    {
      "cell_type": "code",
      "source": [
        "#3.\n",
        "import plotly.graph_objects as go\n",
        "import numpy as np\n",
        "import pandas as pd\n",
        "\n",
        "# Generate the data\n",
        "np.random.seed(20)\n",
        "data = {\n",
        "    'Month': np.random.choice(['Jan', 'Feb', 'Mar', 'Apr', 'May'], 100),\n",
        "    'Day': np.random.choice(range(1, 31), 100),\n",
        "    'Sales': np.random.randint(1000, 5000, 100)\n",
        "}\n",
        "df = pd.DataFrame(data)\n",
        "\n",
        "# Create a pivot table to prepare data for heatmap\n",
        "pivot_table = df.pivot_table(index='Month', columns='Day', values='Sales', aggfunc='mean', fill_value=0)\n",
        "\n",
        "# Create the heatmap\n",
        "fig = go.Figure(data=go.Heatmap(\n",
        "    z=pivot_table.values,\n",
        "    x=pivot_table.columns,\n",
        "    y=pivot_table.index,\n",
        "    colorscale='Viridis'  # Choose a colorscale\n",
        "))\n",
        "\n",
        "# Update layout for better visualization\n",
        "fig.update_layout(\n",
        "    title='Variation in Sales Across Months and Days',\n",
        "    xaxis_title='Day',\n",
        "    yaxis_title='Month'\n",
        ")\n",
        "\n",
        "# Show the plot\n",
        "fig.show()"
      ],
      "metadata": {
        "id": "RTuxZUrN91YP"
      },
      "execution_count": null,
      "outputs": []
    },
    {
      "cell_type": "code",
      "source": [
        "#4.\n",
        "import plotly.graph_objects as go\n",
        "import numpy as np\n",
        "import pandas as pd\n",
        "\n",
        "# Generate the data\n",
        "x = np.linspace(-5, 5, 100)\n",
        "y = np.linspace(-5, 5, 100)\n",
        "x, y = np.meshgrid(x, y)\n",
        "z = np.sin(np.sqrt(x**2 + y**2))\n",
        "\n",
        "data = {\n",
        "    'X': x.flatten(),\n",
        "    'Y': y.flatten(),\n",
        "    'Z': z.flatten()\n",
        "}\n",
        "df = pd.DataFrame(data)\n",
        "\n",
        "# Create the 3D surface plot\n",
        "fig = go.Figure(data=[go.Surface(\n",
        "    x=x,\n",
        "    y=y,\n",
        "    z=z\n",
        ")])\n",
        "\n",
        "# Update layout for better visualization\n",
        "fig.update_layout(\n",
        "    title='3D Surface Plot of z = sin(√(x² + y²))',\n",
        "    scene=dict(\n",
        "        xaxis_title='X',\n",
        "        yaxis_title='Y',\n",
        "        zaxis_title='Z'\n",
        "    )\n",
        ")\n",
        "\n",
        "# Show the plot\n",
        "fig.show()"
      ],
      "metadata": {
        "id": "2bIRYUL791Uu"
      },
      "execution_count": null,
      "outputs": []
    },
    {
      "cell_type": "code",
      "source": [
        "#5.\n",
        "import plotly.graph_objects as go\n",
        "import numpy as np\n",
        "import pandas as pd\n",
        "\n",
        "# Generate the data\n",
        "np.random.seed(25)\n",
        "data = {\n",
        "    'Country': ['USA', 'Canada', 'UK', 'Germany', 'France'],\n",
        "    'Population': np.random.randint(100, 1000, 5),\n",
        "    'GDP': np.random.randint(500, 2000, 5)\n",
        "}\n",
        "df = pd.DataFrame(data)\n",
        "\n",
        "# Create the bubble chart\n",
        "fig = go.Figure(data=go.Scatter(\n",
        "    x=df['GDP'],\n",
        "    y=df['Population'],\n",
        "    text=df['Country'],  # Text labels for each point\n",
        "    mode='markers',\n",
        "    marker=dict(\n",
        "        size=df['Population'] / 10,  # Size proportional to population (adjust scaling as needed)\n",
        "        color=df['Population'],  # Color based on population\n",
        "        colorscale='Viridis',  # Choose a colorscale\n",
        "        opacity=0.8\n",
        "    )\n",
        "))\n",
        "\n",
        "# Update layout for better visualization\n",
        "fig.update_layout(\n",
        "    title='Country Population vs GDP',\n",
        "    xaxis_title='GDP',\n",
        "    yaxis_title='Population'\n",
        ")\n",
        "\n",
        "# Show the plot\n",
        "fig.show()"
      ],
      "metadata": {
        "id": "-jQuIysd91SH"
      },
      "execution_count": null,
      "outputs": []
    },
    {
      "cell_type": "code",
      "source": [
        "#BOKEH ASSIGNMENT"
      ],
      "metadata": {
        "id": "DcSfqBN2DOVs"
      },
      "execution_count": null,
      "outputs": []
    },
    {
      "cell_type": "code",
      "source": [
        "from bokeh.plotting import figure, show\n",
        "from bokeh.models import ColumnDataSource\n",
        "import numpy as np\n",
        "\n",
        "# 1. Sine Wave Plot\n",
        "x = np.linspace(0, 10, 200)\n",
        "y = np.sin(x)\n",
        "\n",
        "p1 = figure(title=\"Sine Wave\", x_axis_label='x', y_axis_label='sin(x)')\n",
        "p1.line(x, y, line_width=2)\n",
        "show(p1)\n",
        "\n",
        "# 2. Scatter Plot with Sizes and Colors\n",
        "x = np.random.rand(50)\n",
        "y = np.random.rand(50)\n",
        "sizes = np.random.randint(5, 20, 50)\n",
        "colors = [\"red\", \"blue\", \"green\", \"yellow\", \"purple\"] * 10\n",
        "\n",
        "source = ColumnDataSource(data=dict(x=x, y=y, sizes=sizes, colors=colors))\n",
        "\n",
        "p2 = figure(title=\"Scatter Plot\", x_axis_label='x', y_axis_label='y')\n",
        "p2.scatter('x', 'y', source=source, size='sizes', color='colors')\n",
        "show(p2)\n",
        "\n",
        "# 3. Bar Chart of Fruits\n",
        "fruits = ['Apples', 'Oranges', 'Bananas', 'Pears']\n",
        "counts = [20, 25, 30, 35]\n",
        "\n",
        "p3 = figure(x_range=fruits, title=\"Fruit Counts\", x_axis_label='Fruit', y_axis_label='Count')\n",
        "p3.vbar(x=fruits, top=counts, width=0.8)\n",
        "show(p3)\n",
        "\n",
        "# 4. Histogram\n",
        "data_hist = np.random.randn(1000)\n",
        "hist, edges = np.histogram(data_hist, bins=30)\n",
        "\n",
        "p4 = figure(title=\"Histogram\", x_axis_label='Value', y_axis_label='Frequency')\n",
        "p4.quad(top=hist, bottom=0, left=edges[:-1], right=edges[1:], fill_color=\"skyblue\", line_color=\"white\")\n",
        "show(p4)\n",
        "\n",
        "# 5. Heatmap\n",
        "data_heatmap = np.random.rand(10, 10)\n",
        "x = np.linspace(0, 1, 10)\n",
        "y = np.linspace(0, 1, 10)\n",
        "xx, yy = np.meshgrid(x, y)\n",
        "\n",
        "p5 = figure(title=\"Heatmap\", x_range=(0, 1), y_range=(0, 1))\n",
        "p5.image(image=[data_heatmap], x=0, y=0, dw=1, dh=1, palette=\"Viridis256\")\n",
        "show(p5)"
      ],
      "metadata": {
        "id": "qRGYsD9zDORA"
      },
      "execution_count": null,
      "outputs": []
    },
    {
      "cell_type": "code",
      "source": [],
      "metadata": {
        "id": "NNhGVqtzDOMR"
      },
      "execution_count": null,
      "outputs": []
    }
  ]
}