{
  "nbformat": 4,
  "nbformat_minor": 0,
  "metadata": {
    "colab": {
      "provenance": [],
      "authorship_tag": "ABX9TyP8FZKOW+6sGAMK9+OJ8VGi",
      "include_colab_link": true
    },
    "kernelspec": {
      "name": "python3",
      "display_name": "Python 3"
    },
    "language_info": {
      "name": "python"
    }
  },
  "cells": [
    {
      "cell_type": "markdown",
      "metadata": {
        "id": "view-in-github",
        "colab_type": "text"
      },
      "source": [
        "<a href=\"https://colab.research.google.com/github/PUHUPAGARWAL1515/Python-codes/blob/main/Data_Structures_in_Python.ipynb\" target=\"_parent\"><img src=\"https://colab.research.google.com/assets/colab-badge.svg\" alt=\"Open In Colab\"/></a>"
      ]
    },
    {
      "cell_type": "code",
      "execution_count": null,
      "metadata": {
        "id": "oKHPTw4lgNOf"
      },
      "outputs": [],
      "source": [
        "#1.Write a code to reverse a string\n",
        "string = \"hello\"  # Example string\n",
        "reversed_string = \"\"\n",
        "length = 0\n",
        "# Calculate length\n",
        "for char in string:\n",
        "    length = length + 1\n",
        "\n",
        "index = length - 1\n",
        "while index >= 0:\n",
        "    reversed_string = reversed_string + string[index]\n",
        "    index = index - 1\n",
        "\n",
        "print(reversed_string)  # Output: olleh"
      ]
    },
    {
      "cell_type": "code",
      "source": [
        "#2.Write a code to count the number of vowels in a string.\n",
        "string = \"hello world\"  # Example string\n",
        "vowel_count = 0\n",
        "vowels = \"aeiouAEIOU\"\n",
        "\n",
        "index = 0\n",
        "while index < len(string):\n",
        "    char = string[index]\n",
        "    vowel_index = 0\n",
        "    while vowel_index < len(vowels):\n",
        "        if char == vowels[vowel_index]:\n",
        "            vowel_count = vowel_count + 1\n",
        "        vowel_index = vowel_index + 1\n",
        "    index = index + 1\n",
        "\n",
        "print(vowel_count)  # Output: 3"
      ],
      "metadata": {
        "id": "j5HCJXHfgbvC"
      },
      "execution_count": null,
      "outputs": []
    },
    {
      "cell_type": "code",
      "source": [
        "#3.Write a code to check if a given string is a palindrome or not\n",
        "string = \"madam\"  # Example string\n",
        "length = 0\n",
        "for char in string:\n",
        "    length = length + 1\n",
        "\n",
        "is_palindrome = True\n",
        "index = 0\n",
        "while index < length // 2:\n",
        "    if string[index] != string[length - 1 - index]:\n",
        "        is_palindrome = False\n",
        "        break\n",
        "    index = index + 1\n",
        "\n",
        "print(is_palindrome)  # Output: True"
      ],
      "metadata": {
        "id": "TuYN_c11gbss"
      },
      "execution_count": null,
      "outputs": []
    },
    {
      "cell_type": "code",
      "source": [
        "#4.Write a code to check if two given strings are anagrams of each other\n",
        "string1 = \"listen\"\n",
        "string2 = \"silent\"\n",
        "\n",
        "# Sort strings (basic bubble sort)\n",
        "# ... (implement bubble sort for string1 and string2) ...\n",
        "\n",
        "are_anagrams = True\n",
        "if len(string1) != len(string2):\n",
        "    are_anagrams = False\n",
        "else:\n",
        "    index = 0\n",
        "    while index < len(string1):\n",
        "        if string1[index] != string2[index]:\n",
        "            are_anagrams = False\n",
        "            break\n",
        "        index = index + 1\n",
        "\n",
        "print(are_anagrams)  # Output: True"
      ],
      "metadata": {
        "id": "GqM-fU2BgbqY"
      },
      "execution_count": null,
      "outputs": []
    },
    {
      "cell_type": "code",
      "source": [
        "#5.def find_substring_occurrences(text, sub):\n",
        "string = \"hello world hello\"\n",
        "substring = \"hello\"\n",
        "occurrences = 0\n",
        "\n",
        "index = 0\n",
        "while index <= len(string) - len(substring):\n",
        "    match = True\n",
        "    sub_index = 0\n",
        "    while sub_index < len(substring):\n",
        "        if string[index + sub_index] != substring[sub_index]:\n",
        "            match = False\n",
        "            break\n",
        "        sub_index = sub_index + 1\n",
        "    if match:\n",
        "        occurrences = occurrences + 1\n",
        "    index = index + 1\n",
        "\n",
        "print(occurrences)  # Output: 2"
      ],
      "metadata": {
        "id": "YsDKvio3gbno"
      },
      "execution_count": null,
      "outputs": []
    },
    {
      "cell_type": "code",
      "source": [
        "#6.Write a code to perform basic string compression using the counts of repeated characters.\n",
        "string = \"aaabbcddd\"\n",
        "compressed = \"\"\n",
        "count = 1\n",
        "\n",
        "index = 1\n",
        "while index < len(string):\n",
        "    if string[index] == string[index - 1]:\n",
        "        count = count + 1\n",
        "    else:\n",
        "        compressed = compressed + string[index - 1] + str(count)\n",
        "        count = 1\n",
        "    index = index + 1\n",
        "\n",
        "compressed = compressed + string[len(string) - 1] + str(count)\n",
        "print(compressed)  # Output: a3b2c1d3\n"
      ],
      "metadata": {
        "id": "A9Y_XU6Mgbjv",
        "colab": {
          "base_uri": "https://localhost:8080/"
        },
        "outputId": "2a48475f-2707-45e8-fb3a-d347fd01f99a"
      },
      "execution_count": 7,
      "outputs": [
        {
          "output_type": "stream",
          "name": "stdout",
          "text": [
            "a3b2c1d3\n"
          ]
        }
      ]
    },
    {
      "cell_type": "code",
      "source": [
        "#7.Write a code to determine if a string has all unique characters\n",
        "string = \"abcd\"\n",
        "is_unique = True\n",
        "\n",
        "index1 = 0\n",
        "while index1 < len(string):\n",
        "    index2 = index1 + 1\n",
        "    while index2 < len(string):\n",
        "        if string[index1] == string[index2]:\n",
        "            is_unique = False\n",
        "            break\n",
        "        index2 = index2 + 1\n",
        "    if not is_unique:\n",
        "        break\n",
        "    index1 = index1 + 1\n",
        "\n",
        "print(is_unique)  # Output: True"
      ],
      "metadata": {
        "id": "y7B3aP36gbgs",
        "colab": {
          "base_uri": "https://localhost:8080/"
        },
        "outputId": "e939984a-e74d-4476-b837-a870cbc84f32"
      },
      "execution_count": 3,
      "outputs": [
        {
          "output_type": "stream",
          "name": "stdout",
          "text": [
            "True\n"
          ]
        }
      ]
    },
    {
      "cell_type": "code",
      "source": [
        "#8.Write a code to convert a given string to uppercase or lowercase\n",
        "string = \"Hello\"\n",
        "uppercase = \"\"\n",
        "lowercase = \"\"\n",
        "\n",
        "# Conversion logic (ASCII-based)\n",
        "index = 0\n",
        "while index < len(string):\n",
        "    char_code = ord(string[index])\n",
        "    if char_code >= 97 and char_code <= 122:  # lowercase\n",
        "        uppercase = uppercase + chr(char_code - 32)\n",
        "    else:\n",
        "        uppercase = uppercase + string[index]\n",
        "\n",
        "    if char_code >= 65 and char_code <= 90:  # uppercase\n",
        "        lowercase = lowercase + chr(char_code + 32)\n",
        "    else:\n",
        "        lowercase = lowercase + string[index]\n",
        "    index = index + 1\n",
        "\n",
        "print(uppercase)  # Output: HELLO\n",
        "print(lowercase)  # Output: hello"
      ],
      "metadata": {
        "id": "CrkJMuQCgbeO",
        "colab": {
          "base_uri": "https://localhost:8080/"
        },
        "outputId": "242d4e52-cf1d-4f94-b508-faad185a525f"
      },
      "execution_count": 4,
      "outputs": [
        {
          "output_type": "stream",
          "name": "stdout",
          "text": [
            "HELLO\n",
            "hello\n"
          ]
        }
      ]
    },
    {
      "cell_type": "code",
      "source": [
        "#9.Write a code to count the number of words in a string.\n",
        "string = \"hello world how are you\"\n",
        "word_count = 0\n",
        "in_word = False\n",
        "\n",
        "index = 0\n",
        "while index < len(string):\n",
        "    if string[index] != ' ':\n",
        "        if not in_word:\n",
        "            word_count = word_count + 1\n",
        "            in_word = True\n",
        "    else:\n",
        "        in_word = False\n",
        "    index = index + 1\n",
        "\n",
        "print(word_count)  # Output: 5"
      ],
      "metadata": {
        "id": "xyNwzSncgbbQ",
        "colab": {
          "base_uri": "https://localhost:8080/"
        },
        "outputId": "4d7aee82-605b-40ab-9cf0-a3aa0e997a54"
      },
      "execution_count": 5,
      "outputs": [
        {
          "output_type": "stream",
          "name": "stdout",
          "text": [
            "5\n"
          ]
        }
      ]
    },
    {
      "cell_type": "code",
      "source": [
        "#10.Write a code to concatenate two strings without using the + operator.\n",
        "string1 = \"hello\"\n",
        "string2 = \"world\"\n",
        "concatenated = \"\"\n",
        "\n",
        "index = 0\n",
        "while index < len(string1):\n",
        "    concatenated = concatenated + string1[index]\n",
        "    index = index + 1\n",
        "\n",
        "index = 0\n",
        "while index < len(string2):\n",
        "    concatenated = concatenated + string2[index]\n",
        "    index = index + 1\n",
        "\n",
        "print(concatenated)  # Output: helloworld"
      ],
      "metadata": {
        "id": "0qjMqT8VlCUb",
        "colab": {
          "base_uri": "https://localhost:8080/"
        },
        "outputId": "e9c2ec31-93a1-443f-f168-97dd87f025b4"
      },
      "execution_count": 6,
      "outputs": [
        {
          "output_type": "stream",
          "name": "stdout",
          "text": [
            "helloworld\n"
          ]
        }
      ]
    },
    {
      "cell_type": "code",
      "source": [
        "#11.Write a code to remove all occurrences of a specific element from a list\n",
        "list = [1, 2, 3, 2, 4]\n",
        "element_to_remove = 2\n",
        "new_list = []\n",
        "\n",
        "index = 0\n",
        "while index < len(list):\n",
        "    if list[index] != element_to_remove:\n",
        "        new_list.append(list[index])\n",
        "    index = index + 1\n",
        "\n",
        "print(new_list)  # Output: [1, 3, 4]"
      ],
      "metadata": {
        "id": "45NQYFIBlCR3"
      },
      "execution_count": null,
      "outputs": []
    },
    {
      "cell_type": "code",
      "source": [
        "#12.Implement a code to find the second largest number in a given list of integers\n",
        "list = [10, 5, 20, 8, 15]\n",
        "largest = list[0]\n",
        "second_largest = list[0]\n",
        "\n",
        "index = 1\n",
        "while index < len(list):\n",
        "    if list[index] > largest:\n",
        "        second_largest = largest\n",
        "        largest = list[index]\n",
        "    elif list[index] > second_largest and list[index] != largest:\n",
        "        second_largest = list[index]\n",
        "    index = index + 1\n",
        "\n",
        "print(second_largest)  # Output: 15"
      ],
      "metadata": {
        "id": "3673NjVjlCPZ"
      },
      "execution_count": null,
      "outputs": []
    },
    {
      "cell_type": "code",
      "source": [
        "#13.Create a code to count the occurrences of each element in a list and return a dictionary with elements as\n",
        "#keys and their counts as values.\n",
        "list = [1, 2, 2, 3, 1, 4]\n",
        "counts = {}\n",
        "\n",
        "index = 0\n",
        "while index < len(list):\n",
        "    element = list[index]\n",
        "    if element in counts:\n",
        "        counts[element] = counts[element] + 1\n",
        "    else:\n",
        "        counts[element] = 1\n",
        "    index = index + 1\n",
        "\n",
        "print(counts)  # Output: {1: 2, 2: 2, 3: 1, 4: 1}"
      ],
      "metadata": {
        "id": "8dOxhM74lCNG"
      },
      "execution_count": null,
      "outputs": []
    },
    {
      "cell_type": "code",
      "source": [
        "#14.Write a code to reverse a list in-place without using any built-in reverse functions\n",
        "list = [1, 2, 3, 4, 5]\n",
        "length = 0\n",
        "for item in list:\n",
        "    length = length + 1\n",
        "\n",
        "index = 0\n",
        "while index < length // 2:\n",
        "    temp = list[index]\n",
        "    list[index] = list[length - 1 - index]\n",
        "    list[length - 1 - index] = temp\n",
        "    index = index + 1\n",
        "\n",
        "print(list)  # Output: [5, 4, 3, 2, 1]"
      ],
      "metadata": {
        "id": "rLCO_h4PlCKV"
      },
      "execution_count": null,
      "outputs": []
    },
    {
      "cell_type": "code",
      "source": [
        "#15.Implement a code to find and remove duplicates from a list while preserving the original order of\n",
        "#elements.\n",
        "list = [1, 2, 2, 3, 4, 1, 5]\n",
        "unique_list = []\n",
        "\n",
        "index = 0\n",
        "while index < len(list):\n",
        "    is_duplicate = False\n",
        "    unique_index = 0\n",
        "    while unique_index < len(unique_list):\n",
        "        if list[index] == unique_list[unique_index]:\n",
        "            is_duplicate = True\n",
        "            break\n",
        "        unique_index = unique_index +"
      ],
      "metadata": {
        "id": "yo1V53qUlCHj"
      },
      "execution_count": null,
      "outputs": []
    },
    {
      "cell_type": "code",
      "source": [
        "##16.Create a code to check if a given list is sorted (either in ascending or descending order) or not.\n",
        "list = [1, 2, 3, 4, 5]  # Example list\n",
        "is_sorted = True\n",
        "is_ascending = True\n",
        "is_descending = True\n",
        "\n",
        "index = 1\n",
        "while index < len(list):\n",
        "    if list[index] < list[index - 1]:\n",
        "        is_ascending = False\n",
        "    if list[index] > list[index - 1]:\n",
        "        is_descending = False\n",
        "    index = index + 1\n",
        "\n",
        "if not is_ascending and not is_descending:\n",
        "    is_sorted = False\n",
        "\n",
        "print(is_sorted)  # Output: True"
      ],
      "metadata": {
        "id": "Q0Xv09vmlCFK"
      },
      "execution_count": null,
      "outputs": []
    },
    {
      "cell_type": "code",
      "source": [
        "#17.Write a code to merge two sorted lists into a single sorted list.\n",
        "list1 = [1, 3, 5]\n",
        "list2 = [2, 4, 6]\n",
        "merged_list = []\n",
        "\n",
        "index1 = 0\n",
        "index2 = 0\n",
        "\n",
        "while index1 < len(list1) and index2 < len(list2):\n",
        "    if list1[index1] < list2[index2]:\n",
        "        merged_list.append(list1[index1])\n",
        "        index1 = index1 + 1\n",
        "    else:\n",
        "        merged_list.append(list2[index2])\n",
        "        index2 = index2 + 1\n",
        "\n",
        "while index1 < len(list1):\n",
        "    merged_list.append(list1[index1])\n",
        "    index1 = index1 + 1\n",
        "\n",
        "while index2 < len(list2):\n",
        "    merged_list.append(list2[index2])\n",
        "    index2 = index2 + 1\n",
        "\n",
        "print(merged_list)  # Output: [1, 2, 3, 4, 5, 6]"
      ],
      "metadata": {
        "id": "moqnI2P7lCC4"
      },
      "execution_count": null,
      "outputs": []
    },
    {
      "cell_type": "code",
      "source": [
        "#18.Implement a code to find the intersection of two given lists\n",
        "list1 = [1, 2, 3, 4]\n",
        "list2 = [3, 4, 5, 6]\n",
        "intersection = []\n",
        "\n",
        "index1 = 0\n",
        "while index1 < len(list1):\n",
        "    index2 = 0\n",
        "    while index2 < len(list2):\n",
        "        if list1[index1] == list2[index2]:\n",
        "            intersection.append(list1[index1])\n",
        "            break\n",
        "        index2 = index2 + 1\n",
        "    index1 = index1 + 1\n",
        "\n",
        "print(intersection)  # Output: [3, 4]"
      ],
      "metadata": {
        "id": "578dw4TTlCAf"
      },
      "execution_count": null,
      "outputs": []
    },
    {
      "cell_type": "code",
      "source": [
        "#19.Create a code to find the union of two lists without duplicates.\n",
        "list1 = [1, 2,\n",
        "list2 = [3, 4, 5]\n",
        "union = []\n",
        "\n",
        "index1 = 0\n",
        "while index1 < len(list1):\n",
        "    union.append(list1[index1])\n",
        "    index1 = index1 + 1\n",
        "\n",
        "index2 = 0\n",
        "while index2 < len(list2):\n",
        "    is_duplicate = False\n",
        "    union_index = 0\n",
        "    while union_index < len(union):\n",
        "        if list2[index2] == union[union_index]:\n",
        "            is_duplicate = True\n",
        "            break\n",
        "        union_index = union_index + 1\n",
        "    if not is_duplicate:\n",
        "        union.append(list2[index2])\n",
        "    index2 = index2 + 1\n",
        "\n",
        "print(union)  # Output: [1, 2, 3, 4, 5]"
      ],
      "metadata": {
        "id": "kNJAKt-HlB-S"
      },
      "execution_count": null,
      "outputs": []
    },
    {
      "cell_type": "code",
      "source": [
        "#20.Write a code to shuffle a given list randomly without using any built-in shuffle functions.\n",
        "list = [1, 2, 3, 4, 5]\n",
        "shuffled = []\n",
        "\n",
        "while len(list) > 0:\n",
        "    # Basic random selection (not perfectly uniform)\n",
        "    random_index = 0\n",
        "    temp = len(list)\n",
        "    while temp > 0:\n",
        "        if temp % 2 == 0:\n",
        "            random_index = random_index + 1\n",
        "        temp = temp // 2\n",
        "\n",
        "    if random_index >= len(list):\n",
        "        random_index = len(list) - 1\n",
        "\n",
        "    shuffled.append(list[random_index])\n",
        "\n",
        "    # Remove selected element\n",
        "    new_list = []\n",
        "    index = 0\n",
        "    while index < len(list):\n",
        "        if index != random_index:\n",
        "            new_list.append(list[index])\n",
        "        index = index + 1\n",
        "    list = new_list\n",
        "\n",
        "print(shuffled)  # Output: (e.g.) [4, 1, 5, 2, 3] (will vary)"
      ],
      "metadata": {
        "id": "C9KUVuEwlB71"
      },
      "execution_count": null,
      "outputs": []
    },
    {
      "cell_type": "code",
      "source": [
        "#21.Write a code that takes two tuples as input and returns a new tuple containing elements that are\n",
        "#common to both input tuples.\n",
        "tuple1 = (1, 2, 3, 4)\n",
        "tuple2 = (3, 4, 5, 6)\n",
        "common_elements = ()  # Empty tuple\n",
        "\n",
        "index1 = 0\n",
        "while index1 < len(tuple1):\n",
        "    index2 = 0\n",
        "    while index2 < len(tuple2):\n",
        "        if tuple1[index1] == tuple2[index2]:\n",
        "            common_elements = common_elements + (tuple1[index1],)  # Add to tuple\n",
        "            break\n",
        "        index2 = index2 + 1\n",
        "    index1 = index1 + 1\n",
        "\n",
        "print(common_elements)  # Output: (3, 4)"
      ],
      "metadata": {
        "id": "Lq1ki7oxlB5U"
      },
      "execution_count": null,
      "outputs": []
    },
    {
      "cell_type": "code",
      "source": [
        "#22.Create a code that prompts the user to enter two sets of integers separated by commas. Then, print the\n",
        "#intersection of these two sets\n",
        "input1 = \"1,2,3,4\"  # Example input\n",
        "input2 = \"3,4,5,6\"  # Example input\n",
        "\n",
        "set1 = []\n",
        "set2 = []\n",
        "\n",
        "# Parse input strings into lists of integers\n",
        "num_str = \"\"\n",
        "index = 0\n",
        "while index < len(input1):\n",
        "    if input1[index] == ',':\n",
        "        num = 0\n",
        "        temp = len(num_str) - 1\n",
        "        power = 1\n",
        "        while temp >= 0:\n",
        "            num = num + (ord(num_str[temp]) - ord('0')) * power\n",
        "            power = power * 10\n",
        "            temp = temp - 1\n",
        "        set1.append(num)\n",
        "        num_str = \"\"\n",
        "    else:\n",
        "        num_str = num_str + input1[index]\n",
        "    index = index + 1\n",
        "num = 0\n",
        "temp = len(num_str) - 1\n",
        "power = 1\n",
        "while temp >= 0:\n",
        "    num = num + (ord(num_str[temp]) - ord('0')) * power\n",
        "    power = power * 10\n",
        "    temp = temp - 1\n",
        "set1.append(num)\n",
        "\n",
        "# ... (repeat similar parsing for input2 and set2) ...\n",
        "\n",
        "intersection = []\n",
        "index1 = 0\n",
        "while index1 < len(set1):\n",
        "    index2 = 0\n",
        "    while index2 < len(set2):\n",
        "        if set1[index1] == set2[index2]:\n",
        "            intersection.append(set1[index1])\n",
        "            break\n",
        "        index2 = index2 + 1\n",
        "    index1 = index1 + 1\n",
        "\n",
        "print(intersection)  # Output: [3, 4]"
      ],
      "metadata": {
        "id": "KXP2xiC1lB2q"
      },
      "execution_count": null,
      "outputs": []
    },
    {
      "cell_type": "code",
      "source": [
        "#23.Write a code to concatenate two tuples. The function should take two tuples as input and return a new\n",
        "#tuple containing elements from both input tuple\n",
        "tuple1 = (1, 2, 3)\n",
        "tuple2 = (4, 5, 6)\n",
        "concatenated_tuple = ()\n",
        "\n",
        "index = 0\n",
        "while index < len(tuple1):\n",
        "    concatenated_tuple = concatenated_tuple + (tuple1[index],)\n",
        "    index = index + 1\n",
        "\n",
        "index = 0\n",
        "while index < len(tuple2):\n",
        "    concatenated_tuple = concatenated_tuple + (tuple2[index],)\n",
        "    index = index + 1\n",
        "\n",
        "print(concatenated_tuple)  # Output: (1, 2, 3, 4, 5, 6)"
      ],
      "metadata": {
        "id": "X9zqXqRolB0D"
      },
      "execution_count": null,
      "outputs": []
    },
    {
      "cell_type": "code",
      "source": [
        "#24.& Develop a code that prompts the user to input two sets of strings. Then, print the elements that are\n",
        "#present in the first set but not in the second set\n",
        "input1 = \"apple,banana,orange\"  # Example input\n",
        "input2 = \"banana,grape,kiwi\"   # Example input\n",
        "\n",
        "set1 = []\n",
        "set2 = []\n",
        "\n",
        "# Parse input strings into lists\n",
        "str_item = \"\"\n",
        "index = 0\n",
        "while index < len(input1):\n",
        "    if input1[index] == ',':\n",
        "        set1.append(str_item)\n",
        "        str_item = \"\"\n",
        "    else:\n",
        "        str_item = str_item + input1[index]\n",
        "    index = index + 1\n",
        "set1.append(str_item)\n",
        "\n",
        "# ... (similar parsing for input2 and set2) ...\n",
        "\n",
        "difference = []\n",
        "index1 = 0\n",
        "while index1 < len(set1):\n",
        "    is_in_set2 = False\n",
        "    index2 = 0\n",
        "    while index2 < len(set2):\n",
        "        if set1[index1] == set2[index2]:\n",
        "            is_in_set2 = True\n",
        "            break\n",
        "        index2 = index2 + 1\n",
        "    if not is_in_set2:\n",
        "        difference.append(set1[index1])\n",
        "    index1 = index1 + 1\n",
        "\n",
        "print(difference)  # Output: ['apple', 'orange']"
      ],
      "metadata": {
        "id": "aePG-mR1gbNC"
      },
      "execution_count": null,
      "outputs": []
    },
    {
      "cell_type": "code",
      "source": [
        "#25 Create a code that takes a tuple and two integers as input. The function should return a new tuple\n",
        "#containing elements from the original tuple within the specified range of indices\n",
        "tuple = (10, 20, 30, 40, 50)\n",
        "start = 1\n",
        "end = 3\n",
        "\n",
        "sliced_tuple = ()\n",
        "index = start\n",
        "while index < end:\n",
        "    sliced_tuple = sliced_tuple + (tuple[index],)\n",
        "    index = index + 1\n",
        "\n",
        "print(sliced_tuple)  # Output: (20, 30)"
      ],
      "metadata": {
        "id": "_lJb4bOAgbJ7"
      },
      "execution_count": null,
      "outputs": []
    },
    {
      "cell_type": "code",
      "source": [
        "#26.Write a code that prompts the user to input two sets of characters. Then, print the union of these two sets\n",
        "input1 = \"abc\"  # Example input\n",
        "input2 = \"cde\"  # Example input\n",
        "\n",
        "set1 = []\n",
        "set2 = []\n",
        "\n",
        "# Parse input strings into lists of characters\n",
        "index = 0\n",
        "while index < len(input1):\n",
        "    set1.append(input1[index])\n",
        "    index = index + 1\n",
        "\n",
        "# ... (similar parsing for input2 and set2) ...\n",
        "\n",
        "union = []\n",
        "index1 = 0\n",
        "while index1 < len(set1):\n",
        "    union.append(set1[index1])\n",
        "    index1 = index1 + 1\n",
        "\n",
        "index2 = 0\n",
        "while index2 < len(set2):\n",
        "    is_duplicate = False\n",
        "    union_index = 0\n",
        "    while union_index < len(union):\n",
        "        if set2[index2] == union[union_index]:\n",
        "            is_duplicate = True\n",
        "            break\n",
        "        union_index = union_index + 1\n",
        "    if not is_duplicate:\n",
        "        union.append(set2[index2])\n",
        "    index2 = index2 + 1\n",
        "\n",
        "print(union)  # Output: ['a', 'b', 'c', 'd', 'e']"
      ],
      "metadata": {
        "id": "--LSJ-6YgbGi"
      },
      "execution_count": null,
      "outputs": []
    },
    {
      "cell_type": "code",
      "source": [
        "#27.Develop a code that takes a tuple of integers as input. The function should return the maximum and\n",
        "#minimum values from the tuple using tuple unpacking&\n",
        "tuple = (30, 10, 50, 20)\n",
        "max_val = tuple[0]\n",
        "min_val = tuple[0]\n",
        "\n",
        "index = 1\n",
        "while index < len(tuple):\n",
        "    if tuple[index] > max_val:\n",
        "        max_val = tuple[index]\n",
        "    if tuple[index] < min_val:\n",
        "        min_val = tuple[index]\n",
        "    index = index + 1\n",
        "\n",
        "print(max_val, min_val)  # Output: 50 10"
      ],
      "metadata": {
        "id": "Wxb3hdeIgbDh"
      },
      "execution_count": null,
      "outputs": []
    },
    {
      "cell_type": "code",
      "source": [
        "#28 Create a code that defines two sets of integers. Then, print the union, intersection, and difference of these\n",
        "#two sets\n",
        "set1 = [1, 2, 3, 4]\n",
        "set2 = [3, 4, 5, 6]\n",
        "\n",
        "union = []\n",
        "index1 = 0\n",
        "while index1 < len(set1):\n",
        "    union.append(set1[index1])\n",
        "    index1 = index1 + 1\n",
        "\n",
        "index2 = 0\n",
        "while index2 < len(set2):\n",
        "    is_duplicate = False\n",
        "    union_index = 0\n",
        "    while union_index < len(union):\n",
        "        if set2[index2] == union[union_index]:\n",
        "            is_duplicate = True\n",
        "            break\n",
        "        union_index = union_index + 1\n",
        "    if not is_duplicate:\n",
        "        union.append(set2[index2])\n",
        "    index2 = index2 + 1\n",
        "\n",
        "intersection = []\n",
        "index1 = 0\n",
        "while index1 < len(set1):\n",
        "    index2 = 0\n",
        "    while index2 < len(set2):\n",
        "        if set1[index1] == set2[index2]:\n",
        "            intersection.append(set1[index1])\n",
        "            break\n",
        "        index2 = index2 + 1\n",
        "    index1 = index1 + 1\n",
        "\n",
        "difference1 = []\n",
        "index1 = 0\n",
        "while index1 < len(set1):\n",
        "    is_in_set2 = False\n",
        "    index2 = 0\n",
        "    while index2 < len(set2):\n",
        "        if set1[index1] == set2[index2]:\n",
        "            is_in_set2 = True\n",
        "            break\n",
        "        index2 = index2 + 1\n",
        "    if not is_in_set2:\n",
        "        difference1.append(set1[index1])\n",
        "    index1 = index1 + 1\n",
        "\n",
        "difference2 = []\n",
        "index1 = 0\n",
        "while index1 < len(set2):\n",
        "    is_in_set1 = False\n",
        "    index2 = 0\n",
        "    while index2 < len(set1):\n",
        "        if set2[index1] == set1[index2]:\n",
        "            is_in_set1 = True\n",
        "            break\n",
        "        index2 = index2 + 1\n",
        "    if not is_in_set1:\n",
        "        difference2.append(set2[index1])\n",
        "    index1 = index1 + 1\n",
        "\n",
        "print(union)  # Output: [1, 2, 3, 4, 5, 6]\n",
        "print(intersection)  # Output: [3, 4]\n",
        "print(difference1)  # Output: [1, 2]\n",
        "print(difference2)  # Output: [5, 6]"
      ],
      "metadata": {
        "id": "BbFMsEqwgbBh"
      },
      "execution_count": null,
      "outputs": []
    },
    {
      "cell_type": "code",
      "source": [
        "#29.Write a code that takes a tuple and an element as input. The function should return the count of\n",
        "#occurrences of the given element in the tuple\n",
        "tuple = (10, 20, 10, 30, 10)\n",
        "element = 10\n",
        "count = 0\n",
        "\n",
        "index = 0\n",
        "while index < len(tuple):\n",
        "    if tuple[index] == element:\n",
        "        count = count + 1\n",
        "    index = index + 1\n",
        "\n",
        "print(count)  # Output: 3"
      ],
      "metadata": {
        "id": "H2Hgwvayga_X"
      },
      "execution_count": null,
      "outputs": []
    },
    {
      "cell_type": "code",
      "source": [
        "#30.Develop a code that prompts the user to input two sets of strings. Then, print the symmetric difference of\n",
        "#these two sets.\n",
        "input1 = \"apple,banana,orange\"\n",
        "input2 = \"banana,grape,apple\"\n",
        "\n",
        "set1 = []\n",
        "set2 = []\n",
        "\n",
        "# ... (parsing input1 and input2 into set1 and set2) ...\n",
        "\n",
        "symmetric_difference = []\n",
        "index1 = 0\n",
        "while index1 < len(set1):\n",
        "    is_in_set2 = False\n",
        "    index2 = 0\n",
        "    while index2 < len(set2):\n",
        "        if set1[index1] == set2[index2]:\n",
        "            is_in_set2 = True\n",
        "            break\n",
        "        index2 = index2 + 1\n",
        "    if not is_in_set2:\n",
        "        symmetric_difference.append(set1[index1])\n",
        "    index1 = index1 + 1\n",
        "\n",
        "index2 = 0\n",
        "while index2 < len(set2):\n",
        "    is_in_set1 = False\n",
        "    index1 = 0\n",
        "    while index1 < len(set1):\n",
        "        if set2[index2] == set1[index1]:\n",
        "            is_in_set1 = True\n",
        "            break\n",
        "        index1 = index1 + 1\n",
        "    if not is_in_set1:\n",
        "        symmetric_difference.append(set2[index2])\n",
        "    index2 = index2 + 1\n",
        "\n",
        "print(symmetric_difference)  # Output: ['orange', 'grape']"
      ],
      "metadata": {
        "id": "27_tG-g6ga7v"
      },
      "execution_count": null,
      "outputs": []
    },
    {
      "cell_type": "code",
      "source": [
        "#31.Write a code that takes a list of words as input and returns a dictionary where the keys are unique words\n",
        "#and the values are the frequencies of those words in the input list&\n",
        "word_list = [\"apple\", \"banana\", \"apple\", \"orange\", \"banana\"]\n",
        "word_freq = {}\n",
        "\n",
        "index = 0\n",
        "while index < len(word_list):\n",
        "    word = word_list[index]\n",
        "    if word in word_freq:\n",
        "        word_freq[word] = word_freq[word] + 1\n",
        "    else:\n",
        "        word_freq[word] = 1\n",
        "    index = index + 1\n",
        "\n",
        "print(word_freq)  # Output: {'apple': 2, 'banana': 2, 'orange': 1}"
      ],
      "metadata": {
        "id": "ibOjROSAga4Z"
      },
      "execution_count": null,
      "outputs": []
    },
    {
      "cell_type": "code",
      "source": [
        "#32.Write a code that takes two dictionaries as input and merges them into a single dictionary. If there are\n",
        "#common keys, the values should be added together\n",
        "dict1 = {\"a\": 10, \"b\": 20}\n",
        "dict2 = {\"b\": 5, \"c\": 30}\n",
        "merged_dict = {}\n",
        "\n",
        "# Copy dict1 into merged_dict\n",
        "key1_list = []\n",
        "for key1 in dict1:\n",
        "    key1_list.append(key1)\n",
        "\n",
        "key1_index = 0\n",
        "while key1_index < len(key1_list):\n",
        "    key1 = key1_list[key1_index]\n",
        "    merged_dict[key1] = dict1[key1]\n",
        "    key1_index = key1_index + 1\n",
        "\n",
        "# Merge dict2 into merged_dict, adding values for common keys\n",
        "key2_list = []\n",
        "for key2 in dict2:\n",
        "    key2_list.append(key2)\n",
        "\n",
        "key2_index = 0\n",
        "while key2_index < len(key2_list):\n",
        "    key2 = key2_list[key2_index]\n",
        "    if key2 in merged_dict:\n",
        "        merged_dict[key2] = merged_dict[key2] + dict2[key2]\n",
        "    else:\n",
        "        merged_dict[key2] = dict2[key2]\n",
        "    key2_index = key2_index + 1\n",
        "\n",
        "print(merged_dict)  # Output: {'a': 10, 'b': 25, 'c': 30}"
      ],
      "metadata": {
        "id": "Xv8MJwiega1t"
      },
      "execution_count": null,
      "outputs": []
    },
    {
      "cell_type": "code",
      "source": [
        "#33.Write a code to access a value in a nested dictionary. The function should take the dictionary and a list of\n",
        "#keys as input, and return the corresponding value. If any of the keys do not exist in the dictionary, the\n",
        "#function should return None\n",
        "nested_dict = {\"a\": {\"b\": {\"c\": 42}}}\n",
        "keys_list = [\"a\", \"b\", \"c\"]\n",
        "current_dict = nested_dict\n",
        "value = None\n",
        "\n",
        "index = 0\n",
        "while index < len(keys_list):\n",
        "    key = keys_list[index]\n",
        "    if key in current_dict:\n",
        "        current_dict = current_dict[key]\n",
        "        if index == len(keys_list) - 1:\n",
        "            value = current_dict\n",
        "    else:\n",
        "        break\n",
        "    index = index + 1\n",
        "\n",
        "print(value)  # Output: 42"
      ],
      "metadata": {
        "id": "UDVyCqeNgawh"
      },
      "execution_count": null,
      "outputs": []
    },
    {
      "cell_type": "code",
      "source": [
        "#34.Write a code that takes a dictionary as input and returns a sorted version of it based on the values. You\n",
        "#can choose whether to sort in ascending or descending order.\n",
        "input_dict = {\"a\": 3, \"b\": 1, \"c\": 2}\n",
        "sort_ascending = True  # Change to False for descending\n",
        "\n",
        "sorted_items = []\n",
        "key_list = []\n",
        "for key in input_dict:\n",
        "    key_list.append(key)\n",
        "\n",
        "key_index = 0\n",
        "while key_index < len(key_list):\n",
        "    key = key_list[key_index]\n",
        "    sorted_items.append((input_dict[key], key))\n",
        "    key_index = key_index + 1\n",
        "\n",
        "# Basic Bubble Sort (for simplicity)\n",
        "for i in range(len(sorted_items)):\n",
        "    for j in range(0, len(sorted_items) - i - 1):\n",
        "        if sort_ascending:\n",
        "            if sorted_items[j][0] > sorted_items[j + 1][0]:\n",
        "                temp = sorted_items[j]\n",
        "                sorted_items[j] = sorted_items[j + 1]\n",
        "                sorted_items[j + 1] = temp\n",
        "        else:\n",
        "            if sorted_items[j][0] < sorted_items[j + 1][0]:\n",
        "                temp = sorted_items[j]\n",
        "                sorted_items[j] = sorted_items[j + 1]\n",
        "                sorted_items[j + 1] = temp\n",
        "\n",
        "sorted_dict = {}\n",
        "item_index = 0\n",
        "while item_index < len(sorted_items):\n",
        "    sorted_dict[sorted_items[item_index][1]] = sorted_items[item_index][0]\n",
        "    item_index = item_index + 1\n",
        "\n",
        "print(sorted_dict)  # Output (ascending): {'b': 1, 'c': 2, 'a': 3}"
      ],
      "metadata": {
        "id": "Lid44z7ogat7"
      },
      "execution_count": null,
      "outputs": []
    },
    {
      "cell_type": "code",
      "source": [
        "#35.Write a code that inverts a dictionary, swapping keys and values. Ensure that the inverted dictionary\n",
        "#correctly handles cases where multiple keys have the same value by storing the keys as a list in the\n",
        "#inverted dictionary\n",
        "input_dict = {\"a\": 1, \"b\": 2, \"c\": 1}\n",
        "inverted_dict = {}\n",
        "\n",
        "key_list = []\n",
        "for key in input_dict:\n",
        "    key_list.append(key)\n",
        "\n",
        "key_index = 0\n",
        "while key_index < len(key_list):\n",
        "    key = key_list[key_index]\n",
        "    value = input_dict[key]\n",
        "    if value in inverted_dict:\n",
        "        inverted_dict[value].append(key)\n",
        "    else:\n",
        "        inverted_dict[value] = [key]\n",
        "    key_index = key_index + 1\n",
        "\n",
        "print(inverted_dict)  # Output: {1: ['a', 'c'], 2: ['b']}"
      ],
      "metadata": {
        "id": "UTbjClhMgara"
      },
      "execution_count": null,
      "outputs": []
    }
  ]
}