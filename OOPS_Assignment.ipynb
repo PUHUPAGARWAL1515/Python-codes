{
  "nbformat": 4,
  "nbformat_minor": 0,
  "metadata": {
    "colab": {
      "provenance": [],
      "authorship_tag": "ABX9TyPsGglwnNKNb0k5jMChePjS",
      "include_colab_link": true
    },
    "kernelspec": {
      "name": "python3",
      "display_name": "Python 3"
    },
    "language_info": {
      "name": "python"
    }
  },
  "cells": [
    {
      "cell_type": "markdown",
      "metadata": {
        "id": "view-in-github",
        "colab_type": "text"
      },
      "source": [
        "<a href=\"https://colab.research.google.com/github/PUHUPAGARWAL1515/Python-codes/blob/main/OOPS_Assignment.ipynb\" target=\"_parent\"><img src=\"https://colab.research.google.com/assets/colab-badge.svg\" alt=\"Open In Colab\"/></a>"
      ]
    },
    {
      "cell_type": "code",
      "execution_count": null,
      "metadata": {
        "id": "fPmxCU8r-DOL"
      },
      "outputs": [],
      "source": [
        "1. What are the five key concepts of Object-Oriented Programming (OOP)?\n",
        "\n",
        "The five key concepts of OOP are:\n",
        "\n",
        "Encapsulation: Bundling data (attributes) and methods (functions) that operate on the data into a single unit called a class. This hides the internal implementation details and provides a clean interface.\n",
        "Abstraction: Simplifying complex systems by modeling classes appropriate to the problem, and at the right level of detail. It focuses on essential features and hides unnecessary details.\n",
        "Inheritance: Creating new classes (derived or child classes) from existing classes (base or parent classes). This allows code reuse and establishes an \"is-a\" relationship between classes.\n",
        "Polymorphism: The ability of different objects to respond to the same method call in different ways. This allows for flexibility and extensibility.\n",
        "Modularity: Breaking down a program into smaller, manageable, and reusable modules or classes."
      ]
    },
    {
      "cell_type": "code",
      "source": [
        "#2. Write a Python class for a Car with attributes for make, model, and year. Include a method to display the car's information.\n",
        "\n",
        "class Car:\n",
        "    def __init__(self, make, model, year):\n",
        "        self.make = make\n",
        "        self.model = model\n",
        "        self.year = year\n",
        "\n",
        "    def display_info(self):\n",
        "        print(f\"Make: {self.make}, Model: {self.model}, Year: {self.year}\")\n",
        "\n",
        "# Example usage\n",
        "my_car = Car(\"Toyota\", \"Camry\", 2022)\n",
        "my_car.display_info()"
      ],
      "metadata": {
        "id": "1VSOrS4Z-FQW"
      },
      "execution_count": null,
      "outputs": []
    },
    {
      "cell_type": "code",
      "source": [
        "#3. Explain the difference between instance methods and class methods. Provide an example of each.\n",
        "\n",
        "#Instance Methods: These methods operate on the instance (object) of the class. They have access to the instance's attributes through the self parameter.\n",
        "#Class Methods: These methods operate on the class itself. They have access to the class's attributes and other class methods through the cls parameter. They are defined using the @classmethod decorator\n",
        "class MyClass:\n",
        "    class_var = 0\n",
        "\n",
        "    def __init__(self, instance_var):\n",
        "        self.instance_var = instance_var\n",
        "\n",
        "    def instance_method(self):\n",
        "        return f\"Instance variable: {self.instance_var}, Class variable: {MyClass.class_var}\"\n",
        "\n",
        "    @classmethod\n",
        "    def class_method(cls):\n",
        "        cls.class_var += 1\n",
        "        return f\"Class variable incremented to: {cls.class_var}\"\n",
        "\n",
        "# Example usage\n",
        "obj = MyClass(10)\n",
        "print(obj.instance_method())  # Output: Instance variable: 10, Class variable: 0\n",
        "print(MyClass.class_method())  # Output: Class variable incremented to: 1\n",
        "print(obj.instance_method())  # Output: Instance variable: 10, Class variable: 1"
      ],
      "metadata": {
        "id": "wvyZQ3b8-FNu"
      },
      "execution_count": null,
      "outputs": []
    },
    {
      "cell_type": "code",
      "source": [
        "#4. How does Python implement method overloading? Give an example.\n",
        "\n",
        "Python doesn't support traditional method overloading like some other languages (e.g., Java). Instead, it achieves similar functionality through:\n",
        "\n",
        "Default Arguments: Allowing a method to accept a variable number of arguments.\n",
        "Variable Arguments (*args and **kwargs): Passing a variable number of positional or keyword arguments to a method.\n",
        "class Calculator:\n",
        "    def add(self, a, b=0, c=0):\n",
        "        return a + b + c\n",
        "\n",
        "# Example usage\n",
        "calc = Calculator()\n",
        "print(calc.add(5))       # Output: 5\n",
        "print(calc.add(5, 10))    # Output: 15\n",
        "print(calc.add(5, 10, 15)) # Output: 30"
      ],
      "metadata": {
        "id": "AdlQykqq-FLU"
      },
      "execution_count": null,
      "outputs": []
    },
    {
      "cell_type": "code",
      "source": [
        "#5. What are the three types of access modifiers in Python? How are they denoted?\n",
        "\n",
        "Python doesn't have strict access modifiers like public, private, and protected in some other languages. However, it uses naming conventions to indicate the intended level of access:\n",
        "\n",
        "Public: Attributes and methods without any special prefix are considered public.\n",
        "Protected: Attributes and methods with a single underscore prefix (_) are considered protected. They shouldn't be accessed from outside the class or its subclasses, but Python doesn't prevent it.\n",
        "Private: Attributes and methods with a double underscore prefix (__) are name-mangled, making them harder to access directly from outside the class.\n",
        "class MyClass:\n",
        "    public_var = 10\n",
        "    _protected_var = 20\n",
        "    __private_var = 30\n",
        "\n",
        "    def public_method(self):\n",
        "        pass\n",
        "\n",
        "    def _protected_method(self):\n",
        "        pass\n",
        "\n",
        "    def __private_method(self):\n",
        "        pass"
      ],
      "metadata": {
        "id": "BXmJVnQ2-FIy"
      },
      "execution_count": null,
      "outputs": []
    },
    {
      "cell_type": "code",
      "source": [
        "#6. Describe the five types of inheritance in Python. Provide a simple example of multiple inheritance.\n",
        "\n",
        "Python supports the following types of inheritance:\n",
        "\n",
        "Single Inheritance: A class inherits from a single base class.\n",
        "Multiple Inheritance: A class inherits from multiple base classes.\n",
        "Multilevel Inheritance: A class inherits from a derived class, which in turn inherits from another base class.\n",
        "Hierarchical Inheritance: Multiple derived classes inherit from a single base class.\n",
        "Hybrid Inheritance: A combination of two or more types of inheritance.\n",
        "\n",
        "class Engine:\n",
        "    def start(self):\n",
        "        print(\"Engine started\")\n",
        "\n",
        "class ElectricMotor:\n",
        "    def charge(self):\n",
        "        print(\"Electric motor charging\")\n",
        "\n",
        "class HybridCar(Engine, ElectricMotor):\n",
        "    def drive(self):\n",
        "        print(\"Hybrid car driving\")\n",
        "\n",
        "# Example usage\n",
        "hybrid_car = HybridCar()\n",
        "hybrid_car.start()\n",
        "hybrid_car.charge()\n",
        "hybrid_car.drive()"
      ],
      "metadata": {
        "id": "C7Zifds3-FGG"
      },
      "execution_count": null,
      "outputs": []
    },
    {
      "cell_type": "code",
      "source": [
        "#7. What is the Method Resolution Order (MRO) in Python? How can you retrieve it programmatically?\n",
        "\n",
        "The Method Resolution Order (MRO) is the order in which Python looks for a method or attribute in a class hierarchy. It's particularly important in multiple inheritance to resolve ambiguity.\n",
        "\n",
        "You can retrieve the MRO of a class using the __mro__ attribute or the mro() method:\n",
        "\n",
        "class A: pass\n",
        "class B: pass\n",
        "class C(A, B): pass\n",
        "\n",
        "print(C.__mro__)  # Output: (<class '__main__.C'>, <class '__main__.A'>, <class '__main__.B'>, <class 'object'>)\n",
        "print(C.mro())     # Output: [<class '__main__.C'>, <class '__main__.A'>, <class '__main__.B'>, <class 'object'>]"
      ],
      "metadata": {
        "id": "WaJGTnzX-FDx"
      },
      "execution_count": null,
      "outputs": []
    },
    {
      "cell_type": "code",
      "source": [
        "#8. Create an abstract base class Shape with an abstract method area(). Then create two subclasses Circle and Rectangle that implement the area() method.\n",
        "from abc import ABC, abstractmethod\n",
        "import math\n",
        "\n",
        "class Shape(ABC):\n",
        "    @abstractmethod\n",
        "    def area(self):\n",
        "        pass\n",
        "\n",
        "class Circle(Shape):\n",
        "    def __init__(self, radius):\n",
        "        self.radius = radius\n",
        "\n",
        "    def area(self):\n",
        "        return math.pi * self.radius**2\n",
        "\n",
        "class Rectangle(Shape):\n",
        "    def __init__(self, length, width):\n",
        "        self.length = length\n",
        "        self.width = width\n",
        "\n",
        "    def area(self):\n",
        "        return self.length * self.width\n",
        "\n",
        "# Example usage\n",
        "circle = Circle(5)\n",
        "rectangle = Rectangle(4, 6)\n",
        "print(f\"Circle area: {circle.area()}\")\n",
        "print(f\"Rectangle area: {rectangle.area()}\")"
      ],
      "metadata": {
        "id": "afuFbQu4-FBa"
      },
      "execution_count": null,
      "outputs": []
    },
    {
      "cell_type": "code",
      "source": [
        "#9. Demonstrate polymorphism by creating a function that can work with different shape objects to calculate and print their areas.\n",
        "from abc import ABC, abstractmethod\n",
        "import math\n",
        "\n",
        "class Shape(ABC):\n",
        "    @abstractmethod\n",
        "    def area(self):\n",
        "        pass\n",
        "\n",
        "class Circle(Shape):\n",
        "    def __init__(self, radius):\n",
        "        self.radius = radius\n",
        "\n",
        "    def area(self):\n",
        "        return math.pi * self.radius**2\n",
        "\n",
        "class Rectangle(Shape):\n",
        "    def __init__(self, length, width):\n",
        "        self.length = length\n",
        "        self.width = width\n",
        "\n",
        "    def area(self):\n",
        "        return self.length * self.width\n",
        "\n",
        "def print_area(shape):\n",
        "    print(f\"Area: {shape.area()}\")\n",
        "\n",
        "# Example usage\n",
        "circle = Circle(5)\n",
        "rectangle = Rectangle(4, 6)\n",
        "print_area(circle)\n",
        "print_area(rectangle)"
      ],
      "metadata": {
        "id": "VAIHoK7d-E-0"
      },
      "execution_count": null,
      "outputs": []
    },
    {
      "cell_type": "code",
      "source": [
        "#10. Implement encapsulation in a BankAccount class with private attributes for balance and account_number. Include methods for deposit, withdrawal, and balance inquiry.\n",
        "class BankAccount:\n",
        "    def __init__(self, account_number, balance=0):\n",
        "        self.__account_number = account_number\n",
        "        self.__balance = balance\n",
        "\n",
        "    def deposit(self, amount):\n",
        "        if amount > 0:\n",
        "            self.__balance += amount\n",
        "            print(f\"Deposited {amount}. New balance: {self.__balance}\")\n",
        "        else:\n",
        "            print(\"Invalid deposit amount.\")\n",
        "\n",
        "    def withdraw(self, amount):\n",
        "        if 0 < amount <= self.__balance:\n",
        "            self.__balance -= amount\n",
        "            print(f\"Withdrawn {amount}. New balance: {self.__balance}\")\n",
        "        else:\n",
        "            print(\"Insufficient funds or invalid amount.\")\n",
        "\n",
        "    def get_balance(self):\n",
        "        return self.__balance\n",
        "\n",
        "    def get_account_number(self):\n",
        "        return self.__account_number\n",
        "\n",
        "# Example usage\n",
        "account = BankAccount(\"123456789\", 1000)\n",
        "account.deposit(500)\n",
        "account.withdraw(200)\n",
        "print(f\"Account number: {account.get_account_number()}, Balance: {account.get_balance()}\")"
      ],
      "metadata": {
        "id": "Cy7fovhm-uT2"
      },
      "execution_count": null,
      "outputs": []
    },
    {
      "cell_type": "code",
      "source": [
        "#11. Write a class that overrides the __str__ and __add__ magic methods. What will these methods allow you to do?\n",
        "\n",
        "__str__: Controls how an instance of the class is represented as a string (e.g., when you use print(object)).\n",
        "__add__: Defines the behavior of the + operator when used with instances of the class.\n",
        "\n",
        "class Point:\n",
        "    def __init__(self, x, y):\n",
        "        self.x = x\n",
        "        self.y = y\n",
        "\n",
        "    def __str__(self):\n",
        "        return f\"Point({self.x}, {self.y})\"\n",
        "\n",
        "    def __add__(self, other):\n",
        "        if isinstance(other, Point):\n",
        "            return Point(self.x + other.x, self.y + other.y)\n",
        "        else:\n",
        "            raise TypeError(\"Unsupported operand type for +\")\n",
        "\n",
        "# Example usage\n",
        "p1 = Point(1, 2)\n",
        "p2 = Point(3, 4)\n",
        "print(p1)          # Output: Point(1, 2)\n",
        "print(p1 + p2)     # Output: Point(4, 6)"
      ],
      "metadata": {
        "id": "TQl8ZAk9-uRj"
      },
      "execution_count": null,
      "outputs": []
    },
    {
      "cell_type": "code",
      "source": [
        "#12. Create a decorator that measures and prints the execution time of a function\n",
        "import time\n",
        "\n",
        "def timer(func):\n",
        "    def wrapper(*args, **kwargs):\n",
        "        start_time = time.time()\n",
        "        result = func(*args, **kwargs)\n",
        "        end_time = time.time()\n",
        "        execution_time = end_time - start_time\n",
        "        print(f\"{func.__name__} executed in {execution_time:.4f} seconds\")\n",
        "        return result\n",
        "    return wrapper\n",
        "\n",
        "@timer\n",
        "def my_function(n):\n",
        "    time.sleep(n)\n",
        "    return f\"Slept for {n} seconds\"\n",
        "\n",
        "# Example usage\n",
        "print(my_function(2))"
      ],
      "metadata": {
        "colab": {
          "base_uri": "https://localhost:8080/"
        },
        "id": "pi8kiWL0-uO8",
        "outputId": "40184743-c429-48ae-8c10-8deeeeae48fc"
      },
      "execution_count": 2,
      "outputs": [
        {
          "output_type": "stream",
          "name": "stdout",
          "text": [
            "my_function executed in 2.0001 seconds\n",
            "Slept for 2 seconds\n"
          ]
        }
      ]
    },
    {
      "cell_type": "code",
      "source": [
        "#13. Explain the concept of the Diamond Problem in multiple inheritance. How does Python resolve it?\n",
        "\n",
        "The Diamond Problem\n",
        "\n",
        "The Diamond Problem is an ambiguity that arises in multiple inheritance when a class D inherits from two classes B and C, and both B and C inherit from a common base class A.  If D calls a method or accesses an attribute that is defined in A, which version of the method/attribute should D use?  There are two possible paths: D -> B -> A and D -> C -> A.  This leads to ambiguity.\n",
        "\n",
        "    A\n",
        "   / \\\n",
        "  B   C\n",
        "   \\ /\n",
        "    D\n",
        "Python's Resolution: Method Resolution Order (MRO)\n",
        "\n",
        "Python resolves the Diamond Problem using Method Resolution Order (MRO).  The MRO defines the order in which base classes are searched when looking for a method or attribute. Python uses the C3 linearization algorithm to 1  create a consistent and predictable MRO\n",
        "C3 Linearization\n",
        "\n",
        "The C3 algorithm ensures that:\n",
        "\n",
        "Local precedence order is preserved: A class always appears before its parents.\n",
        "Monotonicity: The order of classes is consistent across the entire hierarchy.\n",
        "Example:\n",
        "class A:\n",
        "    def method(self):\n",
        "        print(\"A method\")\n",
        "\n",
        "class B(A):\n",
        "    def method(self):\n",
        "        print(\"B method\")\n",
        "\n",
        "class C(A):\n",
        "    def method(self):\n",
        "        print(\"C method\")\n",
        "\n",
        "class D(B, C):\n",
        "    pass\n",
        "\n",
        "d = D()\n",
        "d.method()  # This will call B's method because B comes before C in D's MRO\n",
        "\n",
        "print(D.mro())  # Output: [<class '__main__.D'>, <class '__main__.B'>, <class '__main__.C'>, <class '__main__.A'>, <class 'object'>]\n",
        "In this example, D inherits from B and C. The method() is present in A, B, and C.  The MRO of D is [D, B, C, A, object], which means Python will first look for method() in D, then B, then C, then A. Therefore, d.method() calls B's method()."
      ],
      "metadata": {
        "id": "50gV-Xdx_Jjk"
      },
      "execution_count": null,
      "outputs": []
    },
    {
      "cell_type": "code",
      "source": [
        "#14. Write a class method that keeps track of the number of instances created from a class.\n",
        "class MyClass:\n",
        "    instance_count = 0  # Class variable to track instances\n",
        "\n",
        "    def __init__(self):\n",
        "        MyClass.instance_count += 1\n",
        "\n",
        "    @classmethod\n",
        "    def get_instance_count(cls):\n",
        "        return cls.instance_count\n",
        "\n",
        "# Example usage\n",
        "obj1 = MyClass()\n",
        "obj2 = MyClass()\n",
        "obj3 = MyClass()\n",
        "\n",
        "print(MyClass.get_instance_count())  # Output: 3"
      ],
      "metadata": {
        "id": "5bDiKnIRAA3t"
      },
      "execution_count": null,
      "outputs": []
    },
    {
      "cell_type": "code",
      "source": [
        "#15. Implement a static method in a class that checks if a given year is a leap year.\n",
        "class Year:\n",
        "    @staticmethod\n",
        "    def is_leap(year):\n",
        "        if (year % 4 == 0 and year % 100 != 0) or (year % 400 == 0):\n",
        "            return True\n",
        "        else:\n",
        "            return False\n",
        "\n",
        "# Example usage\n",
        "print(Year.is_leap(2020))  # Output: True\n",
        "print(Year.is_leap(2021))  # Output: False\n",
        "print(Year.is_leap(1900))  # Output: False\n",
        "print(Year.is_leap(2000))  # Output: True"
      ],
      "metadata": {
        "id": "iR_rmJNwAAv7"
      },
      "execution_count": null,
      "outputs": []
    }
  ]
}